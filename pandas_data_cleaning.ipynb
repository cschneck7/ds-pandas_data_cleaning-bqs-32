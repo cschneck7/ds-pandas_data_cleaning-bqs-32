{
 "cells": [
  {
   "cell_type": "markdown",
   "metadata": {
    "toc": true
   },
   "source": [
    "<h1>Table of Contents<span class=\"tocSkip\"></span></h1>\n",
    "<div class=\"toc\"><ul class=\"toc-item\"><li><span><a href=\"#Objectives\" data-toc-modified-id=\"Objectives-1\"><span class=\"toc-item-num\">1&nbsp;&nbsp;</span>Objectives</a></span></li><li><span><a href=\"#More-Pandas\" data-toc-modified-id=\"More-Pandas-2\"><span class=\"toc-item-num\">2&nbsp;&nbsp;</span>More Pandas</a></span><ul class=\"toc-item\"><li><span><a href=\"#Loading-the-Data\" data-toc-modified-id=\"Loading-the-Data-2.1\"><span class=\"toc-item-num\">2.1&nbsp;&nbsp;</span>Loading the Data</a></span></li></ul></li><li><span><a href=\"#Exploratory-Data-Analysis-(EDA)\" data-toc-modified-id=\"Exploratory-Data-Analysis-(EDA)-3\"><span class=\"toc-item-num\">3&nbsp;&nbsp;</span>Exploratory Data Analysis (EDA)</a></span><ul class=\"toc-item\"><li><span><a href=\"#Inspecting-the-Data\" data-toc-modified-id=\"Inspecting-the-Data-3.1\"><span class=\"toc-item-num\">3.1&nbsp;&nbsp;</span>Inspecting the Data</a></span></li><li><span><a href=\"#Question-1:-What-animal-types-are-in-the-dataset?\" data-toc-modified-id=\"Question-1:-What-animal-types-are-in-the-dataset?-3.2\"><span class=\"toc-item-num\">3.2&nbsp;&nbsp;</span>Question 1: What animal types are in the dataset?</a></span></li><li><span><a href=\"#Question-2:-What-&quot;Other&quot;-animals-are-in-the-dataset?\" data-toc-modified-id=\"Question-2:-What-&quot;Other&quot;-animals-are-in-the-dataset?-3.3\"><span class=\"toc-item-num\">3.3&nbsp;&nbsp;</span>Question 2: What \"Other\" animals are in the dataset?</a></span></li><li><span><a href=\"#Question-3:-How-old-are-the-animals-in-our-dataset?\" data-toc-modified-id=\"Question-3:-How-old-are-the-animals-in-our-dataset?-3.4\"><span class=\"toc-item-num\">3.4&nbsp;&nbsp;</span>Question 3: How old are the animals in our dataset?</a></span><ul class=\"toc-item\"><li><span><a href=\"#Series.map()\" data-toc-modified-id=\"Series.map()-3.4.1\"><span class=\"toc-item-num\">3.4.1&nbsp;&nbsp;</span><code>Series.map()</code></a></span></li><li><span><a href=\"#More-Sophisticated-Mapping\" data-toc-modified-id=\"More-Sophisticated-Mapping-3.4.2\"><span class=\"toc-item-num\">3.4.2&nbsp;&nbsp;</span>More Sophisticated Mapping</a></span></li><li><span><a href=\"#Lambda-Functions\" data-toc-modified-id=\"Lambda-Functions-3.4.3\"><span class=\"toc-item-num\">3.4.3&nbsp;&nbsp;</span>Lambda Functions</a></span></li></ul></li></ul></li><li><span><a href=\"#Handling-Missing-Data\" data-toc-modified-id=\"Handling-Missing-Data-4\"><span class=\"toc-item-num\">4&nbsp;&nbsp;</span>Handling Missing Data</a></span><ul class=\"toc-item\"><li><span><a href=\"#Fill-with-a-Relevant-Value\" data-toc-modified-id=\"Fill-with-a-Relevant-Value-4.1\"><span class=\"toc-item-num\">4.1&nbsp;&nbsp;</span>Fill with a Relevant Value</a></span></li><li><span><a href=\"#Fill-with-a-Reasonable-Value\" data-toc-modified-id=\"Fill-with-a-Reasonable-Value-4.2\"><span class=\"toc-item-num\">4.2&nbsp;&nbsp;</span>Fill with a Reasonable Value</a></span></li><li><span><a href=\"#Specify-That-the-Data-Were-Missing\" data-toc-modified-id=\"Specify-That-the-Data-Were-Missing-4.3\"><span class=\"toc-item-num\">4.3&nbsp;&nbsp;</span>Specify That the Data Were Missing</a></span></li><li><span><a href=\"#Drop-Missing-Data\" data-toc-modified-id=\"Drop-Missing-Data-4.4\"><span class=\"toc-item-num\">4.4&nbsp;&nbsp;</span>Drop Missing Data</a></span></li><li><span><a href=\"#Comparing-Before-and-After\" data-toc-modified-id=\"Comparing-Before-and-After-4.5\"><span class=\"toc-item-num\">4.5&nbsp;&nbsp;</span>Comparing Before and After</a></span></li></ul></li><li><span><a href=\"#Level-Up:-.applymap()\" data-toc-modified-id=\"Level-Up:-.applymap()-5\"><span class=\"toc-item-num\">5&nbsp;&nbsp;</span>Level Up: <code>.applymap()</code></a></span></li><li><span><a href=\"#Level-Up:-Faster-NumPy-Methods\" data-toc-modified-id=\"Level-Up:-Faster-NumPy-Methods-6\"><span class=\"toc-item-num\">6&nbsp;&nbsp;</span>Level Up: Faster NumPy Methods</a></span><ul class=\"toc-item\"><li><span><a href=\"#NumPy's-where()-Method\" data-toc-modified-id=\"NumPy's-where()-Method-6.1\"><span class=\"toc-item-num\">6.1&nbsp;&nbsp;</span>NumPy's <code>where()</code> Method</a></span></li><li><span><a href=\"#NumPy's-select()-Method\" data-toc-modified-id=\"NumPy's-select()-Method-6.2\"><span class=\"toc-item-num\">6.2&nbsp;&nbsp;</span>NumPy's <code>select()</code> Method</a></span></li></ul></li></ul></div>"
   ]
  },
  {
   "cell_type": "markdown",
   "metadata": {},
   "source": [
    "![panda](http://res.freestockphotos.biz/thumbs/3/3173-illustration-of-a-giant-panda-eating-bamboo-th.png)"
   ]
  },
  {
   "cell_type": "code",
   "execution_count": 1,
   "metadata": {},
   "outputs": [],
   "source": [
    "import numpy as np\n",
    "import pandas as pd\n",
    "\n",
    "from matplotlib import pyplot as plt\n",
    "%matplotlib inline"
   ]
  },
  {
   "cell_type": "markdown",
   "metadata": {
    "heading_collapsed": true
   },
   "source": [
    "# Objectives"
   ]
  },
  {
   "cell_type": "markdown",
   "metadata": {
    "hidden": true
   },
   "source": [
    "- Use lambda functions and DataFrame methods to transform data\n",
    "- Handle missing data"
   ]
  },
  {
   "cell_type": "markdown",
   "metadata": {
    "heading_collapsed": true
   },
   "source": [
    "# More Pandas"
   ]
  },
  {
   "cell_type": "markdown",
   "metadata": {
    "hidden": true
   },
   "source": [
    "Suppose you were interested in opening an animal shelter. To inform your planning, it would be useful to analyze data from other shelters to understand their operations. In this lecture, we'll analyze animal outcome data from the Austin Animal Center.  "
   ]
  },
  {
   "cell_type": "markdown",
   "metadata": {
    "heading_collapsed": true,
    "hidden": true
   },
   "source": [
    "## Loading the Data"
   ]
  },
  {
   "cell_type": "markdown",
   "metadata": {
    "hidden": true
   },
   "source": [
    "Let's take a moment to examine the [Austin Animal Center data set](https://data.austintexas.gov/Health-and-Community-Services/Austin-Animal-Center-Outcomes/9t4d-g238/data). \n",
    "\n",
    "We can also ingest the data right off the web, as we do below. The code below will load JSON data for the last 1000 animals to leave the center from this [JSON file](https://data.austintexas.gov/resource/9t4d-g238.json). "
   ]
  },
  {
   "cell_type": "code",
   "execution_count": 2,
   "metadata": {
    "hidden": true
   },
   "outputs": [],
   "source": [
    "json_url = 'https://data.austintexas.gov/resource/9t4d-g238.json'\n",
    "animals = pd.read_json(json_url)"
   ]
  },
  {
   "cell_type": "markdown",
   "metadata": {
    "heading_collapsed": true
   },
   "source": [
    "# Exploratory Data Analysis (EDA)"
   ]
  },
  {
   "cell_type": "markdown",
   "metadata": {
    "hidden": true
   },
   "source": [
    "Exploring a new dataset is essential for understanding what it contains. This will generate ideas for processing the data and questions to try to answer in further analysis."
   ]
  },
  {
   "cell_type": "markdown",
   "metadata": {
    "heading_collapsed": true,
    "hidden": true
   },
   "source": [
    "## Inspecting the Data"
   ]
  },
  {
   "cell_type": "markdown",
   "metadata": {
    "hidden": true
   },
   "source": [
    "Let's take a look at a few rows of data."
   ]
  },
  {
   "cell_type": "code",
   "execution_count": 3,
   "metadata": {
    "hidden": true
   },
   "outputs": [
    {
     "data": {
      "text/html": [
       "<div>\n",
       "<style scoped>\n",
       "    .dataframe tbody tr th:only-of-type {\n",
       "        vertical-align: middle;\n",
       "    }\n",
       "\n",
       "    .dataframe tbody tr th {\n",
       "        vertical-align: top;\n",
       "    }\n",
       "\n",
       "    .dataframe thead th {\n",
       "        text-align: right;\n",
       "    }\n",
       "</style>\n",
       "<table border=\"1\" class=\"dataframe\">\n",
       "  <thead>\n",
       "    <tr style=\"text-align: right;\">\n",
       "      <th></th>\n",
       "      <th>animal_id</th>\n",
       "      <th>datetime</th>\n",
       "      <th>monthyear</th>\n",
       "      <th>date_of_birth</th>\n",
       "      <th>outcome_type</th>\n",
       "      <th>outcome_subtype</th>\n",
       "      <th>animal_type</th>\n",
       "      <th>sex_upon_outcome</th>\n",
       "      <th>age_upon_outcome</th>\n",
       "      <th>breed</th>\n",
       "      <th>color</th>\n",
       "      <th>name</th>\n",
       "    </tr>\n",
       "  </thead>\n",
       "  <tbody>\n",
       "    <tr>\n",
       "      <th>0</th>\n",
       "      <td>A862733</td>\n",
       "      <td>2022-08-04 11:42:00</td>\n",
       "      <td>2022-08-04T11:42:00.000</td>\n",
       "      <td>2022-03-30T00:00:00.000</td>\n",
       "      <td>Euthanasia</td>\n",
       "      <td>Suffering</td>\n",
       "      <td>Other</td>\n",
       "      <td>Unknown</td>\n",
       "      <td>4 months</td>\n",
       "      <td>Raccoon</td>\n",
       "      <td>Gray/Black</td>\n",
       "      <td>NaN</td>\n",
       "    </tr>\n",
       "    <tr>\n",
       "      <th>1</th>\n",
       "      <td>A861193</td>\n",
       "      <td>2022-08-04 06:49:00</td>\n",
       "      <td>2022-08-04T06:49:00.000</td>\n",
       "      <td>2019-07-08T00:00:00.000</td>\n",
       "      <td>Adoption</td>\n",
       "      <td>Foster</td>\n",
       "      <td>Dog</td>\n",
       "      <td>Spayed Female</td>\n",
       "      <td>3 years</td>\n",
       "      <td>English Foxhound/Pointer</td>\n",
       "      <td>Tan/White</td>\n",
       "      <td>*Caprisun</td>\n",
       "    </tr>\n",
       "    <tr>\n",
       "      <th>2</th>\n",
       "      <td>A862830</td>\n",
       "      <td>2022-08-03 19:11:00</td>\n",
       "      <td>2022-08-03T19:11:00.000</td>\n",
       "      <td>2002-08-01T00:00:00.000</td>\n",
       "      <td>Adoption</td>\n",
       "      <td>NaN</td>\n",
       "      <td>Dog</td>\n",
       "      <td>Intact Male</td>\n",
       "      <td>20 years</td>\n",
       "      <td>Miniature Poodle Mix</td>\n",
       "      <td>Apricot</td>\n",
       "      <td>Andy</td>\n",
       "    </tr>\n",
       "    <tr>\n",
       "      <th>3</th>\n",
       "      <td>A862858</td>\n",
       "      <td>2022-08-03 19:10:00</td>\n",
       "      <td>2022-08-03T19:10:00.000</td>\n",
       "      <td>2016-08-01T00:00:00.000</td>\n",
       "      <td>Adoption</td>\n",
       "      <td>NaN</td>\n",
       "      <td>Dog</td>\n",
       "      <td>Neutered Male</td>\n",
       "      <td>6 years</td>\n",
       "      <td>Border Collie</td>\n",
       "      <td>Black/White</td>\n",
       "      <td>Frankie</td>\n",
       "    </tr>\n",
       "    <tr>\n",
       "      <th>4</th>\n",
       "      <td>A861176</td>\n",
       "      <td>2022-08-03 18:46:00</td>\n",
       "      <td>2022-08-03T18:46:00.000</td>\n",
       "      <td>2022-05-08T00:00:00.000</td>\n",
       "      <td>Adoption</td>\n",
       "      <td>NaN</td>\n",
       "      <td>Cat</td>\n",
       "      <td>Neutered Male</td>\n",
       "      <td>2 months</td>\n",
       "      <td>Domestic Shorthair</td>\n",
       "      <td>Orange Tabby</td>\n",
       "      <td>*Kevin</td>\n",
       "    </tr>\n",
       "  </tbody>\n",
       "</table>\n",
       "</div>"
      ],
      "text/plain": [
       "  animal_id            datetime                monthyear  \\\n",
       "0   A862733 2022-08-04 11:42:00  2022-08-04T11:42:00.000   \n",
       "1   A861193 2022-08-04 06:49:00  2022-08-04T06:49:00.000   \n",
       "2   A862830 2022-08-03 19:11:00  2022-08-03T19:11:00.000   \n",
       "3   A862858 2022-08-03 19:10:00  2022-08-03T19:10:00.000   \n",
       "4   A861176 2022-08-03 18:46:00  2022-08-03T18:46:00.000   \n",
       "\n",
       "             date_of_birth outcome_type outcome_subtype animal_type  \\\n",
       "0  2022-03-30T00:00:00.000   Euthanasia       Suffering       Other   \n",
       "1  2019-07-08T00:00:00.000     Adoption          Foster         Dog   \n",
       "2  2002-08-01T00:00:00.000     Adoption             NaN         Dog   \n",
       "3  2016-08-01T00:00:00.000     Adoption             NaN         Dog   \n",
       "4  2022-05-08T00:00:00.000     Adoption             NaN         Cat   \n",
       "\n",
       "  sex_upon_outcome age_upon_outcome                     breed         color  \\\n",
       "0          Unknown         4 months                   Raccoon    Gray/Black   \n",
       "1    Spayed Female          3 years  English Foxhound/Pointer     Tan/White   \n",
       "2      Intact Male         20 years      Miniature Poodle Mix       Apricot   \n",
       "3    Neutered Male          6 years             Border Collie   Black/White   \n",
       "4    Neutered Male         2 months        Domestic Shorthair  Orange Tabby   \n",
       "\n",
       "        name  \n",
       "0        NaN  \n",
       "1  *Caprisun  \n",
       "2       Andy  \n",
       "3    Frankie  \n",
       "4     *Kevin  "
      ]
     },
     "execution_count": 3,
     "metadata": {},
     "output_type": "execute_result"
    }
   ],
   "source": [
    "animals.head()"
   ]
  },
  {
   "cell_type": "markdown",
   "metadata": {
    "hidden": true
   },
   "source": [
    "The `info()` and `describe()` provide a useful overview of the data."
   ]
  },
  {
   "cell_type": "code",
   "execution_count": 4,
   "metadata": {
    "hidden": true
   },
   "outputs": [
    {
     "name": "stdout",
     "output_type": "stream",
     "text": [
      "<class 'pandas.core.frame.DataFrame'>\n",
      "RangeIndex: 1000 entries, 0 to 999\n",
      "Data columns (total 12 columns):\n",
      " #   Column            Non-Null Count  Dtype         \n",
      "---  ------            --------------  -----         \n",
      " 0   animal_id         1000 non-null   object        \n",
      " 1   datetime          1000 non-null   datetime64[ns]\n",
      " 2   monthyear         1000 non-null   object        \n",
      " 3   date_of_birth     1000 non-null   object        \n",
      " 4   outcome_type      1000 non-null   object        \n",
      " 5   outcome_subtype   475 non-null    object        \n",
      " 6   animal_type       1000 non-null   object        \n",
      " 7   sex_upon_outcome  1000 non-null   object        \n",
      " 8   age_upon_outcome  1000 non-null   object        \n",
      " 9   breed             1000 non-null   object        \n",
      " 10  color             1000 non-null   object        \n",
      " 11  name              789 non-null    object        \n",
      "dtypes: datetime64[ns](1), object(11)\n",
      "memory usage: 93.9+ KB\n"
     ]
    }
   ],
   "source": [
    "animals.info()"
   ]
  },
  {
   "cell_type": "markdown",
   "metadata": {
    "hidden": true
   },
   "source": [
    "> We can see we have some missing data. Specifically in the `outcome_type`, `outcome_subtype`, and `name` columns."
   ]
  },
  {
   "cell_type": "code",
   "execution_count": 5,
   "metadata": {
    "hidden": true
   },
   "outputs": [
    {
     "name": "stderr",
     "output_type": "stream",
     "text": [
      "C:\\Users\\crack\\AppData\\Local\\Temp\\ipykernel_41236\\1370357234.py:1: FutureWarning: Treating datetime data as categorical rather than numeric in `.describe` is deprecated and will be removed in a future version of pandas. Specify `datetime_is_numeric=True` to silence this warning and adopt the future behavior now.\n",
      "  animals.describe()\n"
     ]
    },
    {
     "data": {
      "text/html": [
       "<div>\n",
       "<style scoped>\n",
       "    .dataframe tbody tr th:only-of-type {\n",
       "        vertical-align: middle;\n",
       "    }\n",
       "\n",
       "    .dataframe tbody tr th {\n",
       "        vertical-align: top;\n",
       "    }\n",
       "\n",
       "    .dataframe thead th {\n",
       "        text-align: right;\n",
       "    }\n",
       "</style>\n",
       "<table border=\"1\" class=\"dataframe\">\n",
       "  <thead>\n",
       "    <tr style=\"text-align: right;\">\n",
       "      <th></th>\n",
       "      <th>animal_id</th>\n",
       "      <th>datetime</th>\n",
       "      <th>monthyear</th>\n",
       "      <th>date_of_birth</th>\n",
       "      <th>outcome_type</th>\n",
       "      <th>outcome_subtype</th>\n",
       "      <th>animal_type</th>\n",
       "      <th>sex_upon_outcome</th>\n",
       "      <th>age_upon_outcome</th>\n",
       "      <th>breed</th>\n",
       "      <th>color</th>\n",
       "      <th>name</th>\n",
       "    </tr>\n",
       "  </thead>\n",
       "  <tbody>\n",
       "    <tr>\n",
       "      <th>count</th>\n",
       "      <td>1000</td>\n",
       "      <td>1000</td>\n",
       "      <td>1000</td>\n",
       "      <td>1000</td>\n",
       "      <td>1000</td>\n",
       "      <td>475</td>\n",
       "      <td>1000</td>\n",
       "      <td>1000</td>\n",
       "      <td>1000</td>\n",
       "      <td>1000</td>\n",
       "      <td>1000</td>\n",
       "      <td>789</td>\n",
       "    </tr>\n",
       "    <tr>\n",
       "      <th>unique</th>\n",
       "      <td>995</td>\n",
       "      <td>811</td>\n",
       "      <td>811</td>\n",
       "      <td>419</td>\n",
       "      <td>7</td>\n",
       "      <td>13</td>\n",
       "      <td>5</td>\n",
       "      <td>5</td>\n",
       "      <td>39</td>\n",
       "      <td>154</td>\n",
       "      <td>105</td>\n",
       "      <td>736</td>\n",
       "    </tr>\n",
       "    <tr>\n",
       "      <th>top</th>\n",
       "      <td>A860999</td>\n",
       "      <td>2022-07-28 13:42:00</td>\n",
       "      <td>2022-07-28T13:42:00.000</td>\n",
       "      <td>2022-04-21T00:00:00.000</td>\n",
       "      <td>Adoption</td>\n",
       "      <td>Partner</td>\n",
       "      <td>Dog</td>\n",
       "      <td>Neutered Male</td>\n",
       "      <td>2 months</td>\n",
       "      <td>Domestic Shorthair</td>\n",
       "      <td>Black/White</td>\n",
       "      <td>Luna</td>\n",
       "    </tr>\n",
       "    <tr>\n",
       "      <th>freq</th>\n",
       "      <td>2</td>\n",
       "      <td>7</td>\n",
       "      <td>7</td>\n",
       "      <td>25</td>\n",
       "      <td>557</td>\n",
       "      <td>189</td>\n",
       "      <td>505</td>\n",
       "      <td>318</td>\n",
       "      <td>202</td>\n",
       "      <td>263</td>\n",
       "      <td>106</td>\n",
       "      <td>4</td>\n",
       "    </tr>\n",
       "    <tr>\n",
       "      <th>first</th>\n",
       "      <td>NaN</td>\n",
       "      <td>2022-07-11 13:40:00</td>\n",
       "      <td>NaN</td>\n",
       "      <td>NaN</td>\n",
       "      <td>NaN</td>\n",
       "      <td>NaN</td>\n",
       "      <td>NaN</td>\n",
       "      <td>NaN</td>\n",
       "      <td>NaN</td>\n",
       "      <td>NaN</td>\n",
       "      <td>NaN</td>\n",
       "      <td>NaN</td>\n",
       "    </tr>\n",
       "    <tr>\n",
       "      <th>last</th>\n",
       "      <td>NaN</td>\n",
       "      <td>2022-08-04 11:42:00</td>\n",
       "      <td>NaN</td>\n",
       "      <td>NaN</td>\n",
       "      <td>NaN</td>\n",
       "      <td>NaN</td>\n",
       "      <td>NaN</td>\n",
       "      <td>NaN</td>\n",
       "      <td>NaN</td>\n",
       "      <td>NaN</td>\n",
       "      <td>NaN</td>\n",
       "      <td>NaN</td>\n",
       "    </tr>\n",
       "  </tbody>\n",
       "</table>\n",
       "</div>"
      ],
      "text/plain": [
       "       animal_id             datetime                monthyear  \\\n",
       "count       1000                 1000                     1000   \n",
       "unique       995                  811                      811   \n",
       "top      A860999  2022-07-28 13:42:00  2022-07-28T13:42:00.000   \n",
       "freq           2                    7                        7   \n",
       "first        NaN  2022-07-11 13:40:00                      NaN   \n",
       "last         NaN  2022-08-04 11:42:00                      NaN   \n",
       "\n",
       "                  date_of_birth outcome_type outcome_subtype animal_type  \\\n",
       "count                      1000         1000             475        1000   \n",
       "unique                      419            7              13           5   \n",
       "top     2022-04-21T00:00:00.000     Adoption         Partner         Dog   \n",
       "freq                         25          557             189         505   \n",
       "first                       NaN          NaN             NaN         NaN   \n",
       "last                        NaN          NaN             NaN         NaN   \n",
       "\n",
       "       sex_upon_outcome age_upon_outcome               breed        color  \\\n",
       "count              1000             1000                1000         1000   \n",
       "unique                5               39                 154          105   \n",
       "top       Neutered Male         2 months  Domestic Shorthair  Black/White   \n",
       "freq                318              202                 263          106   \n",
       "first               NaN              NaN                 NaN          NaN   \n",
       "last                NaN              NaN                 NaN          NaN   \n",
       "\n",
       "        name  \n",
       "count    789  \n",
       "unique   736  \n",
       "top     Luna  \n",
       "freq       4  \n",
       "first    NaN  \n",
       "last     NaN  "
      ]
     },
     "execution_count": 5,
     "metadata": {},
     "output_type": "execute_result"
    }
   ],
   "source": [
    "animals.describe()"
   ]
  },
  {
   "cell_type": "code",
   "execution_count": 6,
   "metadata": {
    "hidden": true
   },
   "outputs": [
    {
     "data": {
      "text/plain": [
       "Black/White          106\n",
       "Black                 83\n",
       "Brown Tabby           62\n",
       "Brown Tabby/White     38\n",
       "Orange Tabby          36\n",
       "                    ... \n",
       "Blue/Tan               1\n",
       "Brown/Tricolor         1\n",
       "Gray/Tan               1\n",
       "Black/Cream            1\n",
       "Lynx Point/White       1\n",
       "Name: color, Length: 105, dtype: int64"
      ]
     },
     "execution_count": 6,
     "metadata": {},
     "output_type": "execute_result"
    }
   ],
   "source": [
    "# Use value counts to check a categorical feature's distribution\n",
    "\n",
    "animals['color'].value_counts()"
   ]
  },
  {
   "cell_type": "markdown",
   "metadata": {
    "hidden": true
   },
   "source": [
    "Now that we have a sense of the data available to us, we can focus in on some more specific questions to dig into. These questions may or may not be directly relevant to your goal (e.g. helping plan a new shelter), but will always help you gain a better understanding of your data.\n",
    "\n",
    "In your EDA notebooks, **markdown** will be especially helpful in tracking these questions and your methods of answering the questions.  "
   ]
  },
  {
   "cell_type": "markdown",
   "metadata": {
    "heading_collapsed": true,
    "hidden": true
   },
   "source": [
    "## Question 1: What animal types are in the dataset?"
   ]
  },
  {
   "cell_type": "markdown",
   "metadata": {
    "hidden": true
   },
   "source": [
    "We can then begin thinking about what parts of the DataFrame we need to answer the question."
   ]
  },
  {
   "cell_type": "markdown",
   "metadata": {
    "hidden": true
   },
   "source": [
    "* What features do we need?\n",
    " - \"animal_type\"\n",
    "* What type of logic and calculation do we perform?\n",
    " - Let's use `.value_counts()` to count the different animal types\n",
    "* What type of visualization would help us answer the question?\n",
    " - A bar chart would be good for this purpose"
   ]
  },
  {
   "cell_type": "code",
   "execution_count": 7,
   "metadata": {
    "hidden": true
   },
   "outputs": [
    {
     "data": {
      "text/plain": [
       "Dog          505\n",
       "Cat          445\n",
       "Other         46\n",
       "Bird           3\n",
       "Livestock      1\n",
       "Name: animal_type, dtype: int64"
      ]
     },
     "execution_count": 7,
     "metadata": {},
     "output_type": "execute_result"
    }
   ],
   "source": [
    "animals['animal_type'].value_counts()"
   ]
  },
  {
   "cell_type": "code",
   "execution_count": 8,
   "metadata": {
    "hidden": true
   },
   "outputs": [
    {
     "data": {
      "image/png": "[encoded data removed]",
      "text/plain": [
       "<Figure size 432x288 with 1 Axes>"
      ]
     },
     "metadata": {
      "needs_background": "light"
     },
     "output_type": "display_data"
    }
   ],
   "source": [
    "fig, ax = plt.subplots()\n",
    "\n",
    "animal_type_values = animals['animal_type'].value_counts()\n",
    "\n",
    "ax.barh(\n",
    "    y=animal_type_values.index,\n",
    "    width=animal_type_values.values\n",
    ")\n",
    "ax.set_xlabel('count');"
   ]
  },
  {
   "cell_type": "code",
   "execution_count": 9,
   "metadata": {
    "hidden": true
   },
   "outputs": [
    {
     "data": {
      "text/plain": [
       "<AxesSubplot:>"
      ]
     },
     "execution_count": 9,
     "metadata": {},
     "output_type": "execute_result"
    },
    {
     "data": {
      "image/png": "[encoded data removed]",
      "text/plain": [
       "<Figure size 432x288 with 1 Axes>"
      ]
     },
     "metadata": {
      "needs_background": "light"
     },
     "output_type": "display_data"
    }
   ],
   "source": [
    "animals['animal_type'].hist()"
   ]
  },
  {
   "cell_type": "markdown",
   "metadata": {
    "hidden": true
   },
   "source": [
    "Questions lead to other questions. For the above example, the visualization raises the question..."
   ]
  },
  {
   "cell_type": "markdown",
   "metadata": {
    "heading_collapsed": true,
    "hidden": true
   },
   "source": [
    "## Question 2: What \"Other\" animals are in the dataset?"
   ]
  },
  {
   "cell_type": "markdown",
   "metadata": {
    "hidden": true
   },
   "source": [
    "To find out, we need to know whether the type of animal for \"Other\" is in our dataset - and if so, where to find it.   "
   ]
  },
  {
   "cell_type": "markdown",
   "metadata": {
    "hidden": true
   },
   "source": [
    "**Discussion**: Where might we look to find animal types within the Other category?\n",
    "\n",
    "<details>\n",
    "    <summary>\n",
    "        Answer\n",
    "    </summary>\n",
    "        The breed column.\n",
    "</details>"
   ]
  },
  {
   "cell_type": "code",
   "execution_count": null,
   "metadata": {
    "hidden": true
   },
   "outputs": [],
   "source": [
    "# Your exploration here"
   ]
  },
  {
   "cell_type": "markdown",
   "metadata": {
    "hidden": true
   },
   "source": [
    "Let's use that column to answer our question."
   ]
  },
  {
   "cell_type": "code",
   "execution_count": 10,
   "metadata": {
    "hidden": true
   },
   "outputs": [
    {
     "data": {
      "text/plain": [
       "Bat              16\n",
       "Raccoon          10\n",
       "Guinea Pig        7\n",
       "Rabbit Sh         5\n",
       "Fox               2\n",
       "Rabbit Sh Mix     1\n",
       "Armadillo         1\n",
       "Rex-Mini          1\n",
       "Skunk             1\n",
       "Dutch             1\n",
       "English Spot      1\n",
       "Name: breed, dtype: int64"
      ]
     },
     "execution_count": 10,
     "metadata": {},
     "output_type": "execute_result"
    }
   ],
   "source": [
    "mask_other_animals = animals['animal_type'] == 'Other'\n",
    "animals[mask_other_animals]['breed'].value_counts()"
   ]
  },
  {
   "cell_type": "markdown",
   "metadata": {
    "heading_collapsed": true,
    "hidden": true
   },
   "source": [
    "## Question 3: How old are the animals in our dataset?"
   ]
  },
  {
   "cell_type": "markdown",
   "metadata": {
    "hidden": true
   },
   "source": [
    "Let's try to answer this with the `age_upon_outcome` variable to learn some new `pandas` tools."
   ]
  },
  {
   "cell_type": "code",
   "execution_count": 11,
   "metadata": {
    "hidden": true
   },
   "outputs": [
    {
     "data": {
      "text/plain": [
       "2 months     202\n",
       "2 years      162\n",
       "3 months     129\n",
       "1 year        86\n",
       "4 months      47\n",
       "3 years       36\n",
       "1 month       34\n",
       "4 weeks       29\n",
       "5 years       26\n",
       "4 years       21\n",
       "3 weeks       20\n",
       "6 months      18\n",
       "7 months      15\n",
       "10 months     15\n",
       "NULL          14\n",
       "2 weeks       13\n",
       "5 months      13\n",
       "6 years       13\n",
       "7 years       11\n",
       "8 years       10\n",
       "0 years       10\n",
       "8 months       9\n",
       "4 days         8\n",
       "2 days         7\n",
       "10 years       7\n",
       "9 months       7\n",
       "9 years        6\n",
       "15 years       4\n",
       "1 weeks        4\n",
       "1 day          4\n",
       "11 years       4\n",
       "1 week         3\n",
       "3 days         3\n",
       "12 years       3\n",
       "11 months      2\n",
       "16 years       2\n",
       "20 years       1\n",
       "14 years       1\n",
       "13 years       1\n",
       "Name: age_upon_outcome, dtype: int64"
      ]
     },
     "execution_count": 11,
     "metadata": {},
     "output_type": "execute_result"
    }
   ],
   "source": [
    "animals['age_upon_outcome'].value_counts()"
   ]
  },
  {
   "cell_type": "markdown",
   "metadata": {
    "heading_collapsed": true,
    "hidden": true
   },
   "source": [
    "### `Series.map()`"
   ]
  },
  {
   "cell_type": "markdown",
   "metadata": {
    "hidden": true
   },
   "source": [
    "The `.map()` method applies a transformation to every entry in the Series. This transformation  \"maps\" each value from the Series to a new value. A transformation can be defined by a function, Series, or dictionary - usually we'll use functions."
   ]
  },
  {
   "cell_type": "markdown",
   "metadata": {
    "hidden": true
   },
   "source": [
    "The `.apply()` method is similar to the `.map()` method for Series, but can only use functions. It has more powerful uses when working with DataFrames."
   ]
  },
  {
   "cell_type": "code",
   "execution_count": 12,
   "metadata": {
    "hidden": true
   },
   "outputs": [],
   "source": [
    "def one_year(age):\n",
    "    if age == '1 year':\n",
    "        return '1 years'\n",
    "    else:\n",
    "        return age"
   ]
  },
  {
   "cell_type": "code",
   "execution_count": 13,
   "metadata": {
    "hidden": true,
    "scrolled": false
   },
   "outputs": [
    {
     "data": {
      "text/plain": [
       "2 months     202\n",
       "2 years      162\n",
       "3 months     129\n",
       "1 years       86\n",
       "4 months      47\n",
       "3 years       36\n",
       "1 month       34\n",
       "4 weeks       29\n",
       "5 years       26\n",
       "4 years       21\n",
       "3 weeks       20\n",
       "6 months      18\n",
       "7 months      15\n",
       "10 months     15\n",
       "NULL          14\n",
       "2 weeks       13\n",
       "5 months      13\n",
       "6 years       13\n",
       "7 years       11\n",
       "8 years       10\n",
       "0 years       10\n",
       "8 months       9\n",
       "4 days         8\n",
       "2 days         7\n",
       "10 years       7\n",
       "9 months       7\n",
       "9 years        6\n",
       "15 years       4\n",
       "1 weeks        4\n",
       "1 day          4\n",
       "11 years       4\n",
       "1 week         3\n",
       "3 days         3\n",
       "12 years       3\n",
       "11 months      2\n",
       "16 years       2\n",
       "20 years       1\n",
       "14 years       1\n",
       "13 years       1\n",
       "Name: new_age1, dtype: int64"
      ]
     },
     "execution_count": 13,
     "metadata": {},
     "output_type": "execute_result"
    }
   ],
   "source": [
    "animals['new_age1'] = animals['age_upon_outcome'].map(one_year)\n",
    "animals['new_age1'].value_counts()"
   ]
  },
  {
   "cell_type": "markdown",
   "metadata": {
    "heading_collapsed": true,
    "hidden": true
   },
   "source": [
    "### More Sophisticated Mapping"
   ]
  },
  {
   "cell_type": "markdown",
   "metadata": {
    "hidden": true
   },
   "source": [
    "Let's use `.map()` to turn sex_upon_outcome into a category with three values (called **ternary**): male, female, or unknown. "
   ]
  },
  {
   "cell_type": "markdown",
   "metadata": {
    "hidden": true
   },
   "source": [
    "First, explore the unique values:"
   ]
  },
  {
   "cell_type": "code",
   "execution_count": 14,
   "metadata": {
    "hidden": true
   },
   "outputs": [
    {
     "data": {
      "text/plain": [
       "array(['Unknown', 'Spayed Female', 'Intact Male', 'Neutered Male',\n",
       "       'Intact Female'], dtype=object)"
      ]
     },
     "execution_count": 14,
     "metadata": {},
     "output_type": "execute_result"
    }
   ],
   "source": [
    "animals['sex_upon_outcome'].unique()"
   ]
  },
  {
   "cell_type": "code",
   "execution_count": 15,
   "metadata": {
    "hidden": true
   },
   "outputs": [],
   "source": [
    "def sex_mapper(status):\n",
    "    if status in ['Neutered Male', 'Intact Male']:\n",
    "        return 'Male'\n",
    "    elif status in ['Spayed Female', 'Intact Female']:\n",
    "        return 'Female'\n",
    "    else:\n",
    "        return 'Unknown'"
   ]
  },
  {
   "cell_type": "code",
   "execution_count": 17,
   "metadata": {
    "hidden": true
   },
   "outputs": [
    {
     "data": {
      "text/html": [
       "<div>\n",
       "<style scoped>\n",
       "    .dataframe tbody tr th:only-of-type {\n",
       "        vertical-align: middle;\n",
       "    }\n",
       "\n",
       "    .dataframe tbody tr th {\n",
       "        vertical-align: top;\n",
       "    }\n",
       "\n",
       "    .dataframe thead th {\n",
       "        text-align: right;\n",
       "    }\n",
       "</style>\n",
       "<table border=\"1\" class=\"dataframe\">\n",
       "  <thead>\n",
       "    <tr style=\"text-align: right;\">\n",
       "      <th></th>\n",
       "      <th>sex_upon_outcome</th>\n",
       "      <th>new_sex1</th>\n",
       "    </tr>\n",
       "  </thead>\n",
       "  <tbody>\n",
       "    <tr>\n",
       "      <th>0</th>\n",
       "      <td>Unknown</td>\n",
       "      <td>Unknown</td>\n",
       "    </tr>\n",
       "    <tr>\n",
       "      <th>1</th>\n",
       "      <td>Spayed Female</td>\n",
       "      <td>Female</td>\n",
       "    </tr>\n",
       "    <tr>\n",
       "      <th>2</th>\n",
       "      <td>Intact Male</td>\n",
       "      <td>Male</td>\n",
       "    </tr>\n",
       "    <tr>\n",
       "      <th>3</th>\n",
       "      <td>Neutered Male</td>\n",
       "      <td>Male</td>\n",
       "    </tr>\n",
       "    <tr>\n",
       "      <th>4</th>\n",
       "      <td>Neutered Male</td>\n",
       "      <td>Male</td>\n",
       "    </tr>\n",
       "    <tr>\n",
       "      <th>...</th>\n",
       "      <td>...</td>\n",
       "      <td>...</td>\n",
       "    </tr>\n",
       "    <tr>\n",
       "      <th>995</th>\n",
       "      <td>Intact Female</td>\n",
       "      <td>Female</td>\n",
       "    </tr>\n",
       "    <tr>\n",
       "      <th>996</th>\n",
       "      <td>Neutered Male</td>\n",
       "      <td>Male</td>\n",
       "    </tr>\n",
       "    <tr>\n",
       "      <th>997</th>\n",
       "      <td>Neutered Male</td>\n",
       "      <td>Male</td>\n",
       "    </tr>\n",
       "    <tr>\n",
       "      <th>998</th>\n",
       "      <td>Unknown</td>\n",
       "      <td>Unknown</td>\n",
       "    </tr>\n",
       "    <tr>\n",
       "      <th>999</th>\n",
       "      <td>Spayed Female</td>\n",
       "      <td>Female</td>\n",
       "    </tr>\n",
       "  </tbody>\n",
       "</table>\n",
       "<p>1000 rows × 2 columns</p>\n",
       "</div>"
      ],
      "text/plain": [
       "    sex_upon_outcome new_sex1\n",
       "0            Unknown  Unknown\n",
       "1      Spayed Female   Female\n",
       "2        Intact Male     Male\n",
       "3      Neutered Male     Male\n",
       "4      Neutered Male     Male\n",
       "..               ...      ...\n",
       "995    Intact Female   Female\n",
       "996    Neutered Male     Male\n",
       "997    Neutered Male     Male\n",
       "998          Unknown  Unknown\n",
       "999    Spayed Female   Female\n",
       "\n",
       "[1000 rows x 2 columns]"
      ]
     },
     "execution_count": 17,
     "metadata": {},
     "output_type": "execute_result"
    }
   ],
   "source": [
    "animals['new_sex1'] = animals['sex_upon_outcome'].map(sex_mapper)\n",
    "animals[['sex_upon_outcome', 'new_sex1']]"
   ]
  },
  {
   "cell_type": "markdown",
   "metadata": {
    "heading_collapsed": true,
    "hidden": true
   },
   "source": [
    "### Lambda Functions"
   ]
  },
  {
   "cell_type": "markdown",
   "metadata": {
    "hidden": true
   },
   "source": [
    "Simple functions can be defined just when you need them, when you would call the function. These are called **lambda functions**. These functions are **anonymous** and disappear immediately after use."
   ]
  },
  {
   "cell_type": "markdown",
   "metadata": {
    "hidden": true
   },
   "source": [
    "Let's use a lambda function to get rid of 'Other' in the \"animal_type' column."
   ]
  },
  {
   "cell_type": "code",
   "execution_count": 18,
   "metadata": {
    "hidden": true
   },
   "outputs": [
    {
     "data": {
      "text/html": [
       "<div>\n",
       "<style scoped>\n",
       "    .dataframe tbody tr th:only-of-type {\n",
       "        vertical-align: middle;\n",
       "    }\n",
       "\n",
       "    .dataframe tbody tr th {\n",
       "        vertical-align: top;\n",
       "    }\n",
       "\n",
       "    .dataframe thead th {\n",
       "        text-align: right;\n",
       "    }\n",
       "</style>\n",
       "<table border=\"1\" class=\"dataframe\">\n",
       "  <thead>\n",
       "    <tr style=\"text-align: right;\">\n",
       "      <th></th>\n",
       "      <th>animal_id</th>\n",
       "      <th>datetime</th>\n",
       "      <th>monthyear</th>\n",
       "      <th>date_of_birth</th>\n",
       "      <th>outcome_type</th>\n",
       "      <th>outcome_subtype</th>\n",
       "      <th>animal_type</th>\n",
       "      <th>sex_upon_outcome</th>\n",
       "      <th>age_upon_outcome</th>\n",
       "      <th>breed</th>\n",
       "      <th>color</th>\n",
       "      <th>name</th>\n",
       "      <th>new_age1</th>\n",
       "      <th>new_sex1</th>\n",
       "    </tr>\n",
       "  </thead>\n",
       "  <tbody>\n",
       "    <tr>\n",
       "      <th>0</th>\n",
       "      <td>A862733</td>\n",
       "      <td>2022-08-04 11:42:00</td>\n",
       "      <td>2022-08-04T11:42:00.000</td>\n",
       "      <td>2022-03-30T00:00:00.000</td>\n",
       "      <td>Euthanasia</td>\n",
       "      <td>Suffering</td>\n",
       "      <td>Other</td>\n",
       "      <td>Unknown</td>\n",
       "      <td>4 months</td>\n",
       "      <td>Raccoon</td>\n",
       "      <td>Gray/Black</td>\n",
       "      <td>NaN</td>\n",
       "      <td>4 months</td>\n",
       "      <td>Unknown</td>\n",
       "    </tr>\n",
       "    <tr>\n",
       "      <th>42</th>\n",
       "      <td>A861912</td>\n",
       "      <td>2022-08-03 13:34:00</td>\n",
       "      <td>2022-08-03T13:34:00.000</td>\n",
       "      <td>2022-01-19T00:00:00.000</td>\n",
       "      <td>Transfer</td>\n",
       "      <td>Partner</td>\n",
       "      <td>Other</td>\n",
       "      <td>Intact Male</td>\n",
       "      <td>6 months</td>\n",
       "      <td>Rabbit Sh Mix</td>\n",
       "      <td>Black</td>\n",
       "      <td>A861912</td>\n",
       "      <td>6 months</td>\n",
       "      <td>Male</td>\n",
       "    </tr>\n",
       "    <tr>\n",
       "      <th>44</th>\n",
       "      <td>A862989</td>\n",
       "      <td>2022-08-03 11:47:00</td>\n",
       "      <td>2022-08-03T11:47:00.000</td>\n",
       "      <td>2020-08-03T00:00:00.000</td>\n",
       "      <td>Euthanasia</td>\n",
       "      <td>Rabies Risk</td>\n",
       "      <td>Other</td>\n",
       "      <td>Unknown</td>\n",
       "      <td>NULL</td>\n",
       "      <td>Raccoon</td>\n",
       "      <td>Brown/Black</td>\n",
       "      <td>A862989</td>\n",
       "      <td>NULL</td>\n",
       "      <td>Unknown</td>\n",
       "    </tr>\n",
       "    <tr>\n",
       "      <th>72</th>\n",
       "      <td>A862658</td>\n",
       "      <td>2022-08-01 19:22:00</td>\n",
       "      <td>2022-08-01T19:22:00.000</td>\n",
       "      <td>2021-07-28T00:00:00.000</td>\n",
       "      <td>Euthanasia</td>\n",
       "      <td>Rabies Risk</td>\n",
       "      <td>Other</td>\n",
       "      <td>Unknown</td>\n",
       "      <td>1 year</td>\n",
       "      <td>Bat</td>\n",
       "      <td>Brown</td>\n",
       "      <td>NaN</td>\n",
       "      <td>1 years</td>\n",
       "      <td>Unknown</td>\n",
       "    </tr>\n",
       "    <tr>\n",
       "      <th>105</th>\n",
       "      <td>A862605</td>\n",
       "      <td>2022-08-01 10:28:00</td>\n",
       "      <td>2022-08-01T10:28:00.000</td>\n",
       "      <td>2021-07-28T00:00:00.000</td>\n",
       "      <td>Euthanasia</td>\n",
       "      <td>NaN</td>\n",
       "      <td>Other</td>\n",
       "      <td>Unknown</td>\n",
       "      <td>1 year</td>\n",
       "      <td>Armadillo</td>\n",
       "      <td>Gray</td>\n",
       "      <td>NaN</td>\n",
       "      <td>1 years</td>\n",
       "      <td>Unknown</td>\n",
       "    </tr>\n",
       "    <tr>\n",
       "      <th>106</th>\n",
       "      <td>A862550</td>\n",
       "      <td>2022-08-01 09:37:00</td>\n",
       "      <td>2022-08-01T09:37:00.000</td>\n",
       "      <td>2022-04-30T00:00:00.000</td>\n",
       "      <td>Adoption</td>\n",
       "      <td>NaN</td>\n",
       "      <td>Other</td>\n",
       "      <td>Intact Female</td>\n",
       "      <td>3 months</td>\n",
       "      <td>Rex-Mini</td>\n",
       "      <td>Brown/Black</td>\n",
       "      <td>NaN</td>\n",
       "      <td>3 months</td>\n",
       "      <td>Female</td>\n",
       "    </tr>\n",
       "    <tr>\n",
       "      <th>114</th>\n",
       "      <td>A862623</td>\n",
       "      <td>2022-07-31 16:14:00</td>\n",
       "      <td>2022-07-31T16:14:00.000</td>\n",
       "      <td>2020-07-28T00:00:00.000</td>\n",
       "      <td>Euthanasia</td>\n",
       "      <td>Rabies Risk</td>\n",
       "      <td>Other</td>\n",
       "      <td>Unknown</td>\n",
       "      <td>2 years</td>\n",
       "      <td>Bat</td>\n",
       "      <td>Brown</td>\n",
       "      <td>NaN</td>\n",
       "      <td>2 years</td>\n",
       "      <td>Unknown</td>\n",
       "    </tr>\n",
       "    <tr>\n",
       "      <th>119</th>\n",
       "      <td>A862774</td>\n",
       "      <td>2022-07-30 19:20:00</td>\n",
       "      <td>2022-07-30T19:20:00.000</td>\n",
       "      <td>2020-07-30T00:00:00.000</td>\n",
       "      <td>Euthanasia</td>\n",
       "      <td>Rabies Risk</td>\n",
       "      <td>Other</td>\n",
       "      <td>Unknown</td>\n",
       "      <td>NULL</td>\n",
       "      <td>Bat</td>\n",
       "      <td>Brown</td>\n",
       "      <td>NaN</td>\n",
       "      <td>NULL</td>\n",
       "      <td>Unknown</td>\n",
       "    </tr>\n",
       "    <tr>\n",
       "      <th>120</th>\n",
       "      <td>A862772</td>\n",
       "      <td>2022-07-30 19:19:00</td>\n",
       "      <td>2022-07-30T19:19:00.000</td>\n",
       "      <td>2020-07-30T00:00:00.000</td>\n",
       "      <td>Euthanasia</td>\n",
       "      <td>Rabies Risk</td>\n",
       "      <td>Other</td>\n",
       "      <td>Unknown</td>\n",
       "      <td>NULL</td>\n",
       "      <td>Bat</td>\n",
       "      <td>Brown</td>\n",
       "      <td>NaN</td>\n",
       "      <td>NULL</td>\n",
       "      <td>Unknown</td>\n",
       "    </tr>\n",
       "    <tr>\n",
       "      <th>193</th>\n",
       "      <td>A862499</td>\n",
       "      <td>2022-07-29 10:17:00</td>\n",
       "      <td>2022-07-29T10:17:00.000</td>\n",
       "      <td>2020-07-26T00:00:00.000</td>\n",
       "      <td>Disposal</td>\n",
       "      <td>NaN</td>\n",
       "      <td>Other</td>\n",
       "      <td>Unknown</td>\n",
       "      <td>2 years</td>\n",
       "      <td>Bat</td>\n",
       "      <td>Brown/Brown</td>\n",
       "      <td>NaN</td>\n",
       "      <td>2 years</td>\n",
       "      <td>Unknown</td>\n",
       "    </tr>\n",
       "    <tr>\n",
       "      <th>206</th>\n",
       "      <td>A862350</td>\n",
       "      <td>2022-07-28 17:58:00</td>\n",
       "      <td>2022-07-28T17:58:00.000</td>\n",
       "      <td>2020-07-24T00:00:00.000</td>\n",
       "      <td>Euthanasia</td>\n",
       "      <td>Rabies Risk</td>\n",
       "      <td>Other</td>\n",
       "      <td>Unknown</td>\n",
       "      <td>2 years</td>\n",
       "      <td>Bat</td>\n",
       "      <td>Brown/Brown</td>\n",
       "      <td>NaN</td>\n",
       "      <td>2 years</td>\n",
       "      <td>Unknown</td>\n",
       "    </tr>\n",
       "    <tr>\n",
       "      <th>222</th>\n",
       "      <td>A862316</td>\n",
       "      <td>2022-07-28 15:37:00</td>\n",
       "      <td>2022-07-28T15:37:00.000</td>\n",
       "      <td>2020-07-24T00:00:00.000</td>\n",
       "      <td>Euthanasia</td>\n",
       "      <td>Rabies Risk</td>\n",
       "      <td>Other</td>\n",
       "      <td>Unknown</td>\n",
       "      <td>2 years</td>\n",
       "      <td>Raccoon</td>\n",
       "      <td>Brown</td>\n",
       "      <td>NaN</td>\n",
       "      <td>2 years</td>\n",
       "      <td>Unknown</td>\n",
       "    </tr>\n",
       "    <tr>\n",
       "      <th>225</th>\n",
       "      <td>A862595</td>\n",
       "      <td>2022-07-28 14:17:00</td>\n",
       "      <td>2022-07-28T14:17:00.000</td>\n",
       "      <td>2020-07-27T00:00:00.000</td>\n",
       "      <td>Disposal</td>\n",
       "      <td>NaN</td>\n",
       "      <td>Other</td>\n",
       "      <td>Unknown</td>\n",
       "      <td>2 years</td>\n",
       "      <td>Bat</td>\n",
       "      <td>Brown</td>\n",
       "      <td>NaN</td>\n",
       "      <td>2 years</td>\n",
       "      <td>Unknown</td>\n",
       "    </tr>\n",
       "    <tr>\n",
       "      <th>404</th>\n",
       "      <td>A862362</td>\n",
       "      <td>2022-07-25 11:05:00</td>\n",
       "      <td>2022-07-25T11:05:00.000</td>\n",
       "      <td>2021-09-25T00:00:00.000</td>\n",
       "      <td>Euthanasia</td>\n",
       "      <td>Suffering</td>\n",
       "      <td>Other</td>\n",
       "      <td>Unknown</td>\n",
       "      <td>9 months</td>\n",
       "      <td>Skunk</td>\n",
       "      <td>Black</td>\n",
       "      <td>NaN</td>\n",
       "      <td>9 months</td>\n",
       "      <td>Unknown</td>\n",
       "    </tr>\n",
       "    <tr>\n",
       "      <th>411</th>\n",
       "      <td>A862304</td>\n",
       "      <td>2022-07-25 08:27:00</td>\n",
       "      <td>2022-07-25T08:27:00.000</td>\n",
       "      <td>2021-07-24T00:00:00.000</td>\n",
       "      <td>Euthanasia</td>\n",
       "      <td>Suffering</td>\n",
       "      <td>Other</td>\n",
       "      <td>Unknown</td>\n",
       "      <td>1 year</td>\n",
       "      <td>Raccoon</td>\n",
       "      <td>Brown/Black</td>\n",
       "      <td>NaN</td>\n",
       "      <td>1 years</td>\n",
       "      <td>Unknown</td>\n",
       "    </tr>\n",
       "    <tr>\n",
       "      <th>412</th>\n",
       "      <td>A862218</td>\n",
       "      <td>2022-07-25 08:06:00</td>\n",
       "      <td>2022-07-25T08:06:00.000</td>\n",
       "      <td>2021-07-22T00:00:00.000</td>\n",
       "      <td>Euthanasia</td>\n",
       "      <td>Rabies Risk</td>\n",
       "      <td>Other</td>\n",
       "      <td>Unknown</td>\n",
       "      <td>1 year</td>\n",
       "      <td>Bat</td>\n",
       "      <td>Brown</td>\n",
       "      <td>NaN</td>\n",
       "      <td>1 years</td>\n",
       "      <td>Unknown</td>\n",
       "    </tr>\n",
       "    <tr>\n",
       "      <th>447</th>\n",
       "      <td>A861473</td>\n",
       "      <td>2022-07-23 16:32:00</td>\n",
       "      <td>2022-07-23T16:32:00.000</td>\n",
       "      <td>2018-07-13T00:00:00.000</td>\n",
       "      <td>Transfer</td>\n",
       "      <td>Partner</td>\n",
       "      <td>Other</td>\n",
       "      <td>Intact Female</td>\n",
       "      <td>4 years</td>\n",
       "      <td>Dutch</td>\n",
       "      <td>White/Cream</td>\n",
       "      <td>NaN</td>\n",
       "      <td>4 years</td>\n",
       "      <td>Female</td>\n",
       "    </tr>\n",
       "    <tr>\n",
       "      <th>453</th>\n",
       "      <td>A861945</td>\n",
       "      <td>2022-07-23 14:42:00</td>\n",
       "      <td>2022-07-23T14:42:00.000</td>\n",
       "      <td>2022-04-19T00:00:00.000</td>\n",
       "      <td>Adoption</td>\n",
       "      <td>NaN</td>\n",
       "      <td>Other</td>\n",
       "      <td>Intact Female</td>\n",
       "      <td>3 months</td>\n",
       "      <td>Rabbit Sh</td>\n",
       "      <td>Apricot</td>\n",
       "      <td>NaN</td>\n",
       "      <td>3 months</td>\n",
       "      <td>Female</td>\n",
       "    </tr>\n",
       "    <tr>\n",
       "      <th>466</th>\n",
       "      <td>A861889</td>\n",
       "      <td>2022-07-23 13:12:00</td>\n",
       "      <td>2022-07-23T13:12:00.000</td>\n",
       "      <td>2020-07-19T00:00:00.000</td>\n",
       "      <td>Euthanasia</td>\n",
       "      <td>Rabies Risk</td>\n",
       "      <td>Other</td>\n",
       "      <td>Unknown</td>\n",
       "      <td>2 years</td>\n",
       "      <td>Bat</td>\n",
       "      <td>Brown</td>\n",
       "      <td>NaN</td>\n",
       "      <td>2 years</td>\n",
       "      <td>Unknown</td>\n",
       "    </tr>\n",
       "    <tr>\n",
       "      <th>482</th>\n",
       "      <td>A861799</td>\n",
       "      <td>2022-07-22 18:23:00</td>\n",
       "      <td>2022-07-22T18:23:00.000</td>\n",
       "      <td>2020-07-18T00:00:00.000</td>\n",
       "      <td>Adoption</td>\n",
       "      <td>NaN</td>\n",
       "      <td>Other</td>\n",
       "      <td>Unknown</td>\n",
       "      <td>2 years</td>\n",
       "      <td>Rabbit Sh</td>\n",
       "      <td>Cream</td>\n",
       "      <td>NaN</td>\n",
       "      <td>2 years</td>\n",
       "      <td>Unknown</td>\n",
       "    </tr>\n",
       "    <tr>\n",
       "      <th>509</th>\n",
       "      <td>A862120</td>\n",
       "      <td>2022-07-22 10:06:00</td>\n",
       "      <td>2022-07-22T10:06:00.000</td>\n",
       "      <td>2021-07-22T00:00:00.000</td>\n",
       "      <td>Euthanasia</td>\n",
       "      <td>Rabies Risk</td>\n",
       "      <td>Other</td>\n",
       "      <td>Unknown</td>\n",
       "      <td>NULL</td>\n",
       "      <td>Raccoon</td>\n",
       "      <td>Brown/Black</td>\n",
       "      <td>NaN</td>\n",
       "      <td>NULL</td>\n",
       "      <td>Unknown</td>\n",
       "    </tr>\n",
       "    <tr>\n",
       "      <th>510</th>\n",
       "      <td>A862123</td>\n",
       "      <td>2022-07-22 10:04:00</td>\n",
       "      <td>2022-07-22T10:04:00.000</td>\n",
       "      <td>2020-07-22T00:00:00.000</td>\n",
       "      <td>Euthanasia</td>\n",
       "      <td>Rabies Risk</td>\n",
       "      <td>Other</td>\n",
       "      <td>Unknown</td>\n",
       "      <td>NULL</td>\n",
       "      <td>Bat</td>\n",
       "      <td>Brown</td>\n",
       "      <td>NaN</td>\n",
       "      <td>NULL</td>\n",
       "      <td>Unknown</td>\n",
       "    </tr>\n",
       "    <tr>\n",
       "      <th>530</th>\n",
       "      <td>A862073</td>\n",
       "      <td>2022-07-21 16:15:00</td>\n",
       "      <td>2022-07-21T16:15:00.000</td>\n",
       "      <td>2020-07-21T00:00:00.000</td>\n",
       "      <td>Euthanasia</td>\n",
       "      <td>Rabies Risk</td>\n",
       "      <td>Other</td>\n",
       "      <td>Unknown</td>\n",
       "      <td>2 years</td>\n",
       "      <td>Raccoon</td>\n",
       "      <td>Black</td>\n",
       "      <td>Raccoon</td>\n",
       "      <td>2 years</td>\n",
       "      <td>Unknown</td>\n",
       "    </tr>\n",
       "    <tr>\n",
       "      <th>554</th>\n",
       "      <td>A862029</td>\n",
       "      <td>2022-07-21 09:12:00</td>\n",
       "      <td>2022-07-21T09:12:00.000</td>\n",
       "      <td>2020-07-20T00:00:00.000</td>\n",
       "      <td>Euthanasia</td>\n",
       "      <td>Rabies Risk</td>\n",
       "      <td>Other</td>\n",
       "      <td>Unknown</td>\n",
       "      <td>2 years</td>\n",
       "      <td>Bat</td>\n",
       "      <td>Brown/Brown</td>\n",
       "      <td>NaN</td>\n",
       "      <td>2 years</td>\n",
       "      <td>Unknown</td>\n",
       "    </tr>\n",
       "    <tr>\n",
       "      <th>578</th>\n",
       "      <td>A861952</td>\n",
       "      <td>2022-07-20 10:35:00</td>\n",
       "      <td>2022-07-20T10:35:00.000</td>\n",
       "      <td>2021-07-20T00:00:00.000</td>\n",
       "      <td>Euthanasia</td>\n",
       "      <td>Rabies Risk</td>\n",
       "      <td>Other</td>\n",
       "      <td>Unknown</td>\n",
       "      <td>NULL</td>\n",
       "      <td>Fox</td>\n",
       "      <td>Brown</td>\n",
       "      <td>NaN</td>\n",
       "      <td>NULL</td>\n",
       "      <td>Unknown</td>\n",
       "    </tr>\n",
       "    <tr>\n",
       "      <th>579</th>\n",
       "      <td>A861944</td>\n",
       "      <td>2022-07-20 09:35:00</td>\n",
       "      <td>2022-07-20T09:35:00.000</td>\n",
       "      <td>2020-07-19T00:00:00.000</td>\n",
       "      <td>Disposal</td>\n",
       "      <td>NaN</td>\n",
       "      <td>Other</td>\n",
       "      <td>Unknown</td>\n",
       "      <td>2 years</td>\n",
       "      <td>Bat</td>\n",
       "      <td>Brown/Brown</td>\n",
       "      <td>NaN</td>\n",
       "      <td>2 years</td>\n",
       "      <td>Unknown</td>\n",
       "    </tr>\n",
       "    <tr>\n",
       "      <th>614</th>\n",
       "      <td>A861906</td>\n",
       "      <td>2022-07-19 18:29:00</td>\n",
       "      <td>2022-07-19T18:29:00.000</td>\n",
       "      <td>2020-07-19T00:00:00.000</td>\n",
       "      <td>Return to Owner</td>\n",
       "      <td>NaN</td>\n",
       "      <td>Other</td>\n",
       "      <td>Intact Female</td>\n",
       "      <td>2 years</td>\n",
       "      <td>Rabbit Sh</td>\n",
       "      <td>Blue</td>\n",
       "      <td>Babbs</td>\n",
       "      <td>2 years</td>\n",
       "      <td>Female</td>\n",
       "    </tr>\n",
       "    <tr>\n",
       "      <th>615</th>\n",
       "      <td>A861905</td>\n",
       "      <td>2022-07-19 18:29:00</td>\n",
       "      <td>2022-07-19T18:29:00.000</td>\n",
       "      <td>2020-07-19T00:00:00.000</td>\n",
       "      <td>Return to Owner</td>\n",
       "      <td>NaN</td>\n",
       "      <td>Other</td>\n",
       "      <td>Intact Male</td>\n",
       "      <td>2 years</td>\n",
       "      <td>Rabbit Sh</td>\n",
       "      <td>Blue</td>\n",
       "      <td>Peter</td>\n",
       "      <td>2 years</td>\n",
       "      <td>Male</td>\n",
       "    </tr>\n",
       "    <tr>\n",
       "      <th>616</th>\n",
       "      <td>A861907</td>\n",
       "      <td>2022-07-19 18:28:00</td>\n",
       "      <td>2022-07-19T18:28:00.000</td>\n",
       "      <td>2020-07-19T00:00:00.000</td>\n",
       "      <td>Return to Owner</td>\n",
       "      <td>NaN</td>\n",
       "      <td>Other</td>\n",
       "      <td>Intact Female</td>\n",
       "      <td>2 years</td>\n",
       "      <td>Rabbit Sh</td>\n",
       "      <td>Brown</td>\n",
       "      <td>Ana</td>\n",
       "      <td>2 years</td>\n",
       "      <td>Female</td>\n",
       "    </tr>\n",
       "    <tr>\n",
       "      <th>650</th>\n",
       "      <td>A861869</td>\n",
       "      <td>2022-07-19 10:16:00</td>\n",
       "      <td>2022-07-19T10:16:00.000</td>\n",
       "      <td>2020-07-18T00:00:00.000</td>\n",
       "      <td>Euthanasia</td>\n",
       "      <td>Rabies Risk</td>\n",
       "      <td>Other</td>\n",
       "      <td>Unknown</td>\n",
       "      <td>NULL</td>\n",
       "      <td>Bat</td>\n",
       "      <td>Brown/Brown</td>\n",
       "      <td>NaN</td>\n",
       "      <td>NULL</td>\n",
       "      <td>Unknown</td>\n",
       "    </tr>\n",
       "    <tr>\n",
       "      <th>697</th>\n",
       "      <td>A861729</td>\n",
       "      <td>2022-07-18 11:21:00</td>\n",
       "      <td>2022-07-18T11:21:00.000</td>\n",
       "      <td>2020-07-17T00:00:00.000</td>\n",
       "      <td>Euthanasia</td>\n",
       "      <td>Rabies Risk</td>\n",
       "      <td>Other</td>\n",
       "      <td>Unknown</td>\n",
       "      <td>2 years</td>\n",
       "      <td>Raccoon</td>\n",
       "      <td>Gray/Black</td>\n",
       "      <td>NaN</td>\n",
       "      <td>2 years</td>\n",
       "      <td>Unknown</td>\n",
       "    </tr>\n",
       "    <tr>\n",
       "      <th>726</th>\n",
       "      <td>A861456</td>\n",
       "      <td>2022-07-17 11:41:00</td>\n",
       "      <td>2022-07-17T11:41:00.000</td>\n",
       "      <td>2020-07-13T00:00:00.000</td>\n",
       "      <td>Euthanasia</td>\n",
       "      <td>Rabies Risk</td>\n",
       "      <td>Other</td>\n",
       "      <td>Unknown</td>\n",
       "      <td>2 years</td>\n",
       "      <td>Bat</td>\n",
       "      <td>Brown</td>\n",
       "      <td>NaN</td>\n",
       "      <td>2 years</td>\n",
       "      <td>Unknown</td>\n",
       "    </tr>\n",
       "    <tr>\n",
       "      <th>729</th>\n",
       "      <td>A861722</td>\n",
       "      <td>2022-07-17 10:18:00</td>\n",
       "      <td>2022-07-17T10:18:00.000</td>\n",
       "      <td>2021-07-16T00:00:00.000</td>\n",
       "      <td>Euthanasia</td>\n",
       "      <td>Rabies Risk</td>\n",
       "      <td>Other</td>\n",
       "      <td>Unknown</td>\n",
       "      <td>NULL</td>\n",
       "      <td>Bat</td>\n",
       "      <td>Red</td>\n",
       "      <td>NaN</td>\n",
       "      <td>NULL</td>\n",
       "      <td>Unknown</td>\n",
       "    </tr>\n",
       "    <tr>\n",
       "      <th>753</th>\n",
       "      <td>A861413</td>\n",
       "      <td>2022-07-16 15:32:00</td>\n",
       "      <td>2022-07-16T15:32:00.000</td>\n",
       "      <td>2015-07-12T00:00:00.000</td>\n",
       "      <td>Transfer</td>\n",
       "      <td>Partner</td>\n",
       "      <td>Other</td>\n",
       "      <td>Intact Male</td>\n",
       "      <td>7 years</td>\n",
       "      <td>English Spot</td>\n",
       "      <td>White/Black</td>\n",
       "      <td>NaN</td>\n",
       "      <td>7 years</td>\n",
       "      <td>Male</td>\n",
       "    </tr>\n",
       "    <tr>\n",
       "      <th>761</th>\n",
       "      <td>A861484</td>\n",
       "      <td>2022-07-16 11:22:00</td>\n",
       "      <td>2022-07-16T11:22:00.000</td>\n",
       "      <td>2020-07-13T00:00:00.000</td>\n",
       "      <td>Transfer</td>\n",
       "      <td>Partner</td>\n",
       "      <td>Other</td>\n",
       "      <td>Intact Female</td>\n",
       "      <td>2 years</td>\n",
       "      <td>Guinea Pig</td>\n",
       "      <td>Tricolor</td>\n",
       "      <td>Neo</td>\n",
       "      <td>2 years</td>\n",
       "      <td>Female</td>\n",
       "    </tr>\n",
       "    <tr>\n",
       "      <th>762</th>\n",
       "      <td>A861485</td>\n",
       "      <td>2022-07-16 11:22:00</td>\n",
       "      <td>2022-07-16T11:22:00.000</td>\n",
       "      <td>2020-07-13T00:00:00.000</td>\n",
       "      <td>Transfer</td>\n",
       "      <td>Partner</td>\n",
       "      <td>Other</td>\n",
       "      <td>Intact Female</td>\n",
       "      <td>2 years</td>\n",
       "      <td>Guinea Pig</td>\n",
       "      <td>Red</td>\n",
       "      <td>Teagan</td>\n",
       "      <td>2 years</td>\n",
       "      <td>Female</td>\n",
       "    </tr>\n",
       "    <tr>\n",
       "      <th>794</th>\n",
       "      <td>A861610</td>\n",
       "      <td>2022-07-15 15:08:00</td>\n",
       "      <td>2022-07-15T15:08:00.000</td>\n",
       "      <td>2020-07-15T00:00:00.000</td>\n",
       "      <td>Euthanasia</td>\n",
       "      <td>Suffering</td>\n",
       "      <td>Other</td>\n",
       "      <td>Unknown</td>\n",
       "      <td>NULL</td>\n",
       "      <td>Raccoon</td>\n",
       "      <td>Brown/Black</td>\n",
       "      <td>A861610</td>\n",
       "      <td>NULL</td>\n",
       "      <td>Unknown</td>\n",
       "    </tr>\n",
       "    <tr>\n",
       "      <th>813</th>\n",
       "      <td>A861139</td>\n",
       "      <td>2022-07-15 09:43:00</td>\n",
       "      <td>2022-07-15T09:43:00.000</td>\n",
       "      <td>2021-11-23T00:00:00.000</td>\n",
       "      <td>Transfer</td>\n",
       "      <td>Partner</td>\n",
       "      <td>Other</td>\n",
       "      <td>Intact Female</td>\n",
       "      <td>7 months</td>\n",
       "      <td>Guinea Pig</td>\n",
       "      <td>Black/White</td>\n",
       "      <td>Pochi</td>\n",
       "      <td>7 months</td>\n",
       "      <td>Female</td>\n",
       "    </tr>\n",
       "    <tr>\n",
       "      <th>814</th>\n",
       "      <td>A861138</td>\n",
       "      <td>2022-07-15 09:43:00</td>\n",
       "      <td>2022-07-15T09:43:00.000</td>\n",
       "      <td>2021-11-23T00:00:00.000</td>\n",
       "      <td>Transfer</td>\n",
       "      <td>Partner</td>\n",
       "      <td>Other</td>\n",
       "      <td>Intact Female</td>\n",
       "      <td>7 months</td>\n",
       "      <td>Guinea Pig</td>\n",
       "      <td>White/Brown</td>\n",
       "      <td>Fro</td>\n",
       "      <td>7 months</td>\n",
       "      <td>Female</td>\n",
       "    </tr>\n",
       "    <tr>\n",
       "      <th>815</th>\n",
       "      <td>A861141</td>\n",
       "      <td>2022-07-15 09:43:00</td>\n",
       "      <td>2022-07-15T09:43:00.000</td>\n",
       "      <td>2021-11-23T00:00:00.000</td>\n",
       "      <td>Transfer</td>\n",
       "      <td>Partner</td>\n",
       "      <td>Other</td>\n",
       "      <td>Intact Female</td>\n",
       "      <td>7 months</td>\n",
       "      <td>Guinea Pig</td>\n",
       "      <td>Black</td>\n",
       "      <td>Bmo</td>\n",
       "      <td>7 months</td>\n",
       "      <td>Female</td>\n",
       "    </tr>\n",
       "    <tr>\n",
       "      <th>816</th>\n",
       "      <td>A861140</td>\n",
       "      <td>2022-07-15 09:43:00</td>\n",
       "      <td>2022-07-15T09:43:00.000</td>\n",
       "      <td>2021-11-23T00:00:00.000</td>\n",
       "      <td>Transfer</td>\n",
       "      <td>Partner</td>\n",
       "      <td>Other</td>\n",
       "      <td>Intact Female</td>\n",
       "      <td>7 months</td>\n",
       "      <td>Guinea Pig</td>\n",
       "      <td>Brown/Tan</td>\n",
       "      <td>Mocha</td>\n",
       "      <td>7 months</td>\n",
       "      <td>Female</td>\n",
       "    </tr>\n",
       "    <tr>\n",
       "      <th>820</th>\n",
       "      <td>A861589</td>\n",
       "      <td>2022-07-14 19:25:00</td>\n",
       "      <td>2022-07-14T19:25:00.000</td>\n",
       "      <td>2022-02-14T00:00:00.000</td>\n",
       "      <td>Euthanasia</td>\n",
       "      <td>NaN</td>\n",
       "      <td>Other</td>\n",
       "      <td>Unknown</td>\n",
       "      <td>NULL</td>\n",
       "      <td>Fox</td>\n",
       "      <td>Red/Gray</td>\n",
       "      <td>NaN</td>\n",
       "      <td>NULL</td>\n",
       "      <td>Unknown</td>\n",
       "    </tr>\n",
       "    <tr>\n",
       "      <th>917</th>\n",
       "      <td>A861137</td>\n",
       "      <td>2022-07-13 14:42:00</td>\n",
       "      <td>2022-07-13T14:42:00.000</td>\n",
       "      <td>2022-05-08T00:00:00.000</td>\n",
       "      <td>Transfer</td>\n",
       "      <td>Partner</td>\n",
       "      <td>Other</td>\n",
       "      <td>Intact Male</td>\n",
       "      <td>2 months</td>\n",
       "      <td>Guinea Pig</td>\n",
       "      <td>Brown/White</td>\n",
       "      <td>Fregly</td>\n",
       "      <td>2 months</td>\n",
       "      <td>Male</td>\n",
       "    </tr>\n",
       "    <tr>\n",
       "      <th>923</th>\n",
       "      <td>A861202</td>\n",
       "      <td>2022-07-13 10:11:00</td>\n",
       "      <td>2022-07-13T10:11:00.000</td>\n",
       "      <td>2021-07-09T00:00:00.000</td>\n",
       "      <td>Euthanasia</td>\n",
       "      <td>Suffering</td>\n",
       "      <td>Other</td>\n",
       "      <td>Unknown</td>\n",
       "      <td>1 year</td>\n",
       "      <td>Raccoon</td>\n",
       "      <td>Brown/Gray</td>\n",
       "      <td>NaN</td>\n",
       "      <td>1 years</td>\n",
       "      <td>Unknown</td>\n",
       "    </tr>\n",
       "    <tr>\n",
       "      <th>957</th>\n",
       "      <td>A861339</td>\n",
       "      <td>2022-07-12 12:43:00</td>\n",
       "      <td>2022-07-12T12:43:00.000</td>\n",
       "      <td>2020-07-11T00:00:00.000</td>\n",
       "      <td>Disposal</td>\n",
       "      <td>NaN</td>\n",
       "      <td>Other</td>\n",
       "      <td>Unknown</td>\n",
       "      <td>2 years</td>\n",
       "      <td>Bat</td>\n",
       "      <td>Brown/Brown</td>\n",
       "      <td>NaN</td>\n",
       "      <td>2 years</td>\n",
       "      <td>Unknown</td>\n",
       "    </tr>\n",
       "    <tr>\n",
       "      <th>998</th>\n",
       "      <td>A861292</td>\n",
       "      <td>2022-07-11 13:48:00</td>\n",
       "      <td>2022-07-11T13:48:00.000</td>\n",
       "      <td>2020-07-11T00:00:00.000</td>\n",
       "      <td>Euthanasia</td>\n",
       "      <td>Suffering</td>\n",
       "      <td>Other</td>\n",
       "      <td>Unknown</td>\n",
       "      <td>2 years</td>\n",
       "      <td>Raccoon</td>\n",
       "      <td>Brown</td>\n",
       "      <td>NaN</td>\n",
       "      <td>2 years</td>\n",
       "      <td>Unknown</td>\n",
       "    </tr>\n",
       "  </tbody>\n",
       "</table>\n",
       "</div>"
      ],
      "text/plain": [
       "    animal_id            datetime                monthyear  \\\n",
       "0     A862733 2022-08-04 11:42:00  2022-08-04T11:42:00.000   \n",
       "42    A861912 2022-08-03 13:34:00  2022-08-03T13:34:00.000   \n",
       "44    A862989 2022-08-03 11:47:00  2022-08-03T11:47:00.000   \n",
       "72    A862658 2022-08-01 19:22:00  2022-08-01T19:22:00.000   \n",
       "105   A862605 2022-08-01 10:28:00  2022-08-01T10:28:00.000   \n",
       "106   A862550 2022-08-01 09:37:00  2022-08-01T09:37:00.000   \n",
       "114   A862623 2022-07-31 16:14:00  2022-07-31T16:14:00.000   \n",
       "119   A862774 2022-07-30 19:20:00  2022-07-30T19:20:00.000   \n",
       "120   A862772 2022-07-30 19:19:00  2022-07-30T19:19:00.000   \n",
       "193   A862499 2022-07-29 10:17:00  2022-07-29T10:17:00.000   \n",
       "206   A862350 2022-07-28 17:58:00  2022-07-28T17:58:00.000   \n",
       "222   A862316 2022-07-28 15:37:00  2022-07-28T15:37:00.000   \n",
       "225   A862595 2022-07-28 14:17:00  2022-07-28T14:17:00.000   \n",
       "404   A862362 2022-07-25 11:05:00  2022-07-25T11:05:00.000   \n",
       "411   A862304 2022-07-25 08:27:00  2022-07-25T08:27:00.000   \n",
       "412   A862218 2022-07-25 08:06:00  2022-07-25T08:06:00.000   \n",
       "447   A861473 2022-07-23 16:32:00  2022-07-23T16:32:00.000   \n",
       "453   A861945 2022-07-23 14:42:00  2022-07-23T14:42:00.000   \n",
       "466   A861889 2022-07-23 13:12:00  2022-07-23T13:12:00.000   \n",
       "482   A861799 2022-07-22 18:23:00  2022-07-22T18:23:00.000   \n",
       "509   A862120 2022-07-22 10:06:00  2022-07-22T10:06:00.000   \n",
       "510   A862123 2022-07-22 10:04:00  2022-07-22T10:04:00.000   \n",
       "530   A862073 2022-07-21 16:15:00  2022-07-21T16:15:00.000   \n",
       "554   A862029 2022-07-21 09:12:00  2022-07-21T09:12:00.000   \n",
       "578   A861952 2022-07-20 10:35:00  2022-07-20T10:35:00.000   \n",
       "579   A861944 2022-07-20 09:35:00  2022-07-20T09:35:00.000   \n",
       "614   A861906 2022-07-19 18:29:00  2022-07-19T18:29:00.000   \n",
       "615   A861905 2022-07-19 18:29:00  2022-07-19T18:29:00.000   \n",
       "616   A861907 2022-07-19 18:28:00  2022-07-19T18:28:00.000   \n",
       "650   A861869 2022-07-19 10:16:00  2022-07-19T10:16:00.000   \n",
       "697   A861729 2022-07-18 11:21:00  2022-07-18T11:21:00.000   \n",
       "726   A861456 2022-07-17 11:41:00  2022-07-17T11:41:00.000   \n",
       "729   A861722 2022-07-17 10:18:00  2022-07-17T10:18:00.000   \n",
       "753   A861413 2022-07-16 15:32:00  2022-07-16T15:32:00.000   \n",
       "761   A861484 2022-07-16 11:22:00  2022-07-16T11:22:00.000   \n",
       "762   A861485 2022-07-16 11:22:00  2022-07-16T11:22:00.000   \n",
       "794   A861610 2022-07-15 15:08:00  2022-07-15T15:08:00.000   \n",
       "813   A861139 2022-07-15 09:43:00  2022-07-15T09:43:00.000   \n",
       "814   A861138 2022-07-15 09:43:00  2022-07-15T09:43:00.000   \n",
       "815   A861141 2022-07-15 09:43:00  2022-07-15T09:43:00.000   \n",
       "816   A861140 2022-07-15 09:43:00  2022-07-15T09:43:00.000   \n",
       "820   A861589 2022-07-14 19:25:00  2022-07-14T19:25:00.000   \n",
       "917   A861137 2022-07-13 14:42:00  2022-07-13T14:42:00.000   \n",
       "923   A861202 2022-07-13 10:11:00  2022-07-13T10:11:00.000   \n",
       "957   A861339 2022-07-12 12:43:00  2022-07-12T12:43:00.000   \n",
       "998   A861292 2022-07-11 13:48:00  2022-07-11T13:48:00.000   \n",
       "\n",
       "               date_of_birth     outcome_type outcome_subtype animal_type  \\\n",
       "0    2022-03-30T00:00:00.000       Euthanasia       Suffering       Other   \n",
       "42   2022-01-19T00:00:00.000         Transfer         Partner       Other   \n",
       "44   2020-08-03T00:00:00.000       Euthanasia     Rabies Risk       Other   \n",
       "72   2021-07-28T00:00:00.000       Euthanasia     Rabies Risk       Other   \n",
       "105  2021-07-28T00:00:00.000       Euthanasia             NaN       Other   \n",
       "106  2022-04-30T00:00:00.000         Adoption             NaN       Other   \n",
       "114  2020-07-28T00:00:00.000       Euthanasia     Rabies Risk       Other   \n",
       "119  2020-07-30T00:00:00.000       Euthanasia     Rabies Risk       Other   \n",
       "120  2020-07-30T00:00:00.000       Euthanasia     Rabies Risk       Other   \n",
       "193  2020-07-26T00:00:00.000         Disposal             NaN       Other   \n",
       "206  2020-07-24T00:00:00.000       Euthanasia     Rabies Risk       Other   \n",
       "222  2020-07-24T00:00:00.000       Euthanasia     Rabies Risk       Other   \n",
       "225  2020-07-27T00:00:00.000         Disposal             NaN       Other   \n",
       "404  2021-09-25T00:00:00.000       Euthanasia       Suffering       Other   \n",
       "411  2021-07-24T00:00:00.000       Euthanasia       Suffering       Other   \n",
       "412  2021-07-22T00:00:00.000       Euthanasia     Rabies Risk       Other   \n",
       "447  2018-07-13T00:00:00.000         Transfer         Partner       Other   \n",
       "453  2022-04-19T00:00:00.000         Adoption             NaN       Other   \n",
       "466  2020-07-19T00:00:00.000       Euthanasia     Rabies Risk       Other   \n",
       "482  2020-07-18T00:00:00.000         Adoption             NaN       Other   \n",
       "509  2021-07-22T00:00:00.000       Euthanasia     Rabies Risk       Other   \n",
       "510  2020-07-22T00:00:00.000       Euthanasia     Rabies Risk       Other   \n",
       "530  2020-07-21T00:00:00.000       Euthanasia     Rabies Risk       Other   \n",
       "554  2020-07-20T00:00:00.000       Euthanasia     Rabies Risk       Other   \n",
       "578  2021-07-20T00:00:00.000       Euthanasia     Rabies Risk       Other   \n",
       "579  2020-07-19T00:00:00.000         Disposal             NaN       Other   \n",
       "614  2020-07-19T00:00:00.000  Return to Owner             NaN       Other   \n",
       "615  2020-07-19T00:00:00.000  Return to Owner             NaN       Other   \n",
       "616  2020-07-19T00:00:00.000  Return to Owner             NaN       Other   \n",
       "650  2020-07-18T00:00:00.000       Euthanasia     Rabies Risk       Other   \n",
       "697  2020-07-17T00:00:00.000       Euthanasia     Rabies Risk       Other   \n",
       "726  2020-07-13T00:00:00.000       Euthanasia     Rabies Risk       Other   \n",
       "729  2021-07-16T00:00:00.000       Euthanasia     Rabies Risk       Other   \n",
       "753  2015-07-12T00:00:00.000         Transfer         Partner       Other   \n",
       "761  2020-07-13T00:00:00.000         Transfer         Partner       Other   \n",
       "762  2020-07-13T00:00:00.000         Transfer         Partner       Other   \n",
       "794  2020-07-15T00:00:00.000       Euthanasia       Suffering       Other   \n",
       "813  2021-11-23T00:00:00.000         Transfer         Partner       Other   \n",
       "814  2021-11-23T00:00:00.000         Transfer         Partner       Other   \n",
       "815  2021-11-23T00:00:00.000         Transfer         Partner       Other   \n",
       "816  2021-11-23T00:00:00.000         Transfer         Partner       Other   \n",
       "820  2022-02-14T00:00:00.000       Euthanasia             NaN       Other   \n",
       "917  2022-05-08T00:00:00.000         Transfer         Partner       Other   \n",
       "923  2021-07-09T00:00:00.000       Euthanasia       Suffering       Other   \n",
       "957  2020-07-11T00:00:00.000         Disposal             NaN       Other   \n",
       "998  2020-07-11T00:00:00.000       Euthanasia       Suffering       Other   \n",
       "\n",
       "    sex_upon_outcome age_upon_outcome          breed        color     name  \\\n",
       "0            Unknown         4 months        Raccoon   Gray/Black      NaN   \n",
       "42       Intact Male         6 months  Rabbit Sh Mix        Black  A861912   \n",
       "44           Unknown             NULL        Raccoon  Brown/Black  A862989   \n",
       "72           Unknown           1 year            Bat        Brown      NaN   \n",
       "105          Unknown           1 year      Armadillo         Gray      NaN   \n",
       "106    Intact Female         3 months       Rex-Mini  Brown/Black      NaN   \n",
       "114          Unknown          2 years            Bat        Brown      NaN   \n",
       "119          Unknown             NULL            Bat        Brown      NaN   \n",
       "120          Unknown             NULL            Bat        Brown      NaN   \n",
       "193          Unknown          2 years            Bat  Brown/Brown      NaN   \n",
       "206          Unknown          2 years            Bat  Brown/Brown      NaN   \n",
       "222          Unknown          2 years        Raccoon        Brown      NaN   \n",
       "225          Unknown          2 years            Bat        Brown      NaN   \n",
       "404          Unknown         9 months          Skunk        Black      NaN   \n",
       "411          Unknown           1 year        Raccoon  Brown/Black      NaN   \n",
       "412          Unknown           1 year            Bat        Brown      NaN   \n",
       "447    Intact Female          4 years          Dutch  White/Cream      NaN   \n",
       "453    Intact Female         3 months      Rabbit Sh      Apricot      NaN   \n",
       "466          Unknown          2 years            Bat        Brown      NaN   \n",
       "482          Unknown          2 years      Rabbit Sh        Cream      NaN   \n",
       "509          Unknown             NULL        Raccoon  Brown/Black      NaN   \n",
       "510          Unknown             NULL            Bat        Brown      NaN   \n",
       "530          Unknown          2 years        Raccoon        Black  Raccoon   \n",
       "554          Unknown          2 years            Bat  Brown/Brown      NaN   \n",
       "578          Unknown             NULL            Fox        Brown      NaN   \n",
       "579          Unknown          2 years            Bat  Brown/Brown      NaN   \n",
       "614    Intact Female          2 years      Rabbit Sh         Blue    Babbs   \n",
       "615      Intact Male          2 years      Rabbit Sh         Blue    Peter   \n",
       "616    Intact Female          2 years      Rabbit Sh        Brown      Ana   \n",
       "650          Unknown             NULL            Bat  Brown/Brown      NaN   \n",
       "697          Unknown          2 years        Raccoon   Gray/Black      NaN   \n",
       "726          Unknown          2 years            Bat        Brown      NaN   \n",
       "729          Unknown             NULL            Bat          Red      NaN   \n",
       "753      Intact Male          7 years   English Spot  White/Black      NaN   \n",
       "761    Intact Female          2 years     Guinea Pig     Tricolor      Neo   \n",
       "762    Intact Female          2 years     Guinea Pig          Red   Teagan   \n",
       "794          Unknown             NULL        Raccoon  Brown/Black  A861610   \n",
       "813    Intact Female         7 months     Guinea Pig  Black/White    Pochi   \n",
       "814    Intact Female         7 months     Guinea Pig  White/Brown      Fro   \n",
       "815    Intact Female         7 months     Guinea Pig        Black      Bmo   \n",
       "816    Intact Female         7 months     Guinea Pig    Brown/Tan    Mocha   \n",
       "820          Unknown             NULL            Fox     Red/Gray      NaN   \n",
       "917      Intact Male         2 months     Guinea Pig  Brown/White   Fregly   \n",
       "923          Unknown           1 year        Raccoon   Brown/Gray      NaN   \n",
       "957          Unknown          2 years            Bat  Brown/Brown      NaN   \n",
       "998          Unknown          2 years        Raccoon        Brown      NaN   \n",
       "\n",
       "     new_age1 new_sex1  \n",
       "0    4 months  Unknown  \n",
       "42   6 months     Male  \n",
       "44       NULL  Unknown  \n",
       "72    1 years  Unknown  \n",
       "105   1 years  Unknown  \n",
       "106  3 months   Female  \n",
       "114   2 years  Unknown  \n",
       "119      NULL  Unknown  \n",
       "120      NULL  Unknown  \n",
       "193   2 years  Unknown  \n",
       "206   2 years  Unknown  \n",
       "222   2 years  Unknown  \n",
       "225   2 years  Unknown  \n",
       "404  9 months  Unknown  \n",
       "411   1 years  Unknown  \n",
       "412   1 years  Unknown  \n",
       "447   4 years   Female  \n",
       "453  3 months   Female  \n",
       "466   2 years  Unknown  \n",
       "482   2 years  Unknown  \n",
       "509      NULL  Unknown  \n",
       "510      NULL  Unknown  \n",
       "530   2 years  Unknown  \n",
       "554   2 years  Unknown  \n",
       "578      NULL  Unknown  \n",
       "579   2 years  Unknown  \n",
       "614   2 years   Female  \n",
       "615   2 years     Male  \n",
       "616   2 years   Female  \n",
       "650      NULL  Unknown  \n",
       "697   2 years  Unknown  \n",
       "726   2 years  Unknown  \n",
       "729      NULL  Unknown  \n",
       "753   7 years     Male  \n",
       "761   2 years   Female  \n",
       "762   2 years   Female  \n",
       "794      NULL  Unknown  \n",
       "813  7 months   Female  \n",
       "814  7 months   Female  \n",
       "815  7 months   Female  \n",
       "816  7 months   Female  \n",
       "820      NULL  Unknown  \n",
       "917  2 months     Male  \n",
       "923   1 years  Unknown  \n",
       "957   2 years  Unknown  \n",
       "998   2 years  Unknown  "
      ]
     },
     "execution_count": 18,
     "metadata": {},
     "output_type": "execute_result"
    }
   ],
   "source": [
    "animals[animals['animal_type'] == 'Other']"
   ]
  },
  {
   "cell_type": "code",
   "execution_count": 19,
   "metadata": {
    "hidden": true
   },
   "outputs": [
    {
     "data": {
      "text/plain": [
       "Dog          505\n",
       "Cat          445\n",
       "Other         46\n",
       "Bird           3\n",
       "Livestock      1\n",
       "Name: animal_type, dtype: int64"
      ]
     },
     "execution_count": 19,
     "metadata": {},
     "output_type": "execute_result"
    }
   ],
   "source": [
    "animals['animal_type'].value_counts()"
   ]
  },
  {
   "cell_type": "code",
   "execution_count": 20,
   "metadata": {
    "hidden": true,
    "scrolled": true
   },
   "outputs": [
    {
     "data": {
      "text/plain": [
       "Dog          505\n",
       "Cat          445\n",
       "Bird           3\n",
       "Livestock      1\n",
       "Name: animal_type, dtype: int64"
      ]
     },
     "execution_count": 20,
     "metadata": {},
     "output_type": "execute_result"
    }
   ],
   "source": [
    "animals['animal_type'].map(lambda x: np.nan if x == 'Other' else x).value_counts()"
   ]
  },
  {
   "cell_type": "markdown",
   "metadata": {
    "heading_collapsed": true
   },
   "source": [
    "# Handling Missing Data"
   ]
  },
  {
   "cell_type": "markdown",
   "metadata": {
    "hidden": true
   },
   "source": [
    "A lot of the times we'll have missing information in our data set. This can sometimes be troublesome in what we're trying to do."
   ]
  },
  {
   "cell_type": "markdown",
   "metadata": {
    "hidden": true
   },
   "source": [
    "So far, we've been doing some preprocessing/cleaning to answer questions. Now we're going to handle the missing values in our data.\n",
    "\n",
    "There are a few strategies we can choose from and they each have their special use case."
   ]
  },
  {
   "cell_type": "markdown",
   "metadata": {
    "hidden": true
   },
   "source": [
    "> Before making changes, it's convenient to make changes to a copy instead of overwriting data. We'll keep all our changes in `animals_clean` which will be a [copy](https://pandas.pydata.org/docs/reference/api/pandas.DataFrame.copy.html) of the original DataFrame."
   ]
  },
  {
   "cell_type": "code",
   "execution_count": 21,
   "metadata": {
    "hidden": true
   },
   "outputs": [],
   "source": [
    "animals_clean = animals.copy()"
   ]
  },
  {
   "cell_type": "markdown",
   "metadata": {
    "heading_collapsed": true,
    "hidden": true
   },
   "source": [
    "## Fill with a Relevant Value"
   ]
  },
  {
   "cell_type": "markdown",
   "metadata": {
    "hidden": true
   },
   "source": [
    "A lot of times we already have an idea of how we want to specify that a value was missing and replace it with a value that makes more sense than an \"empty\" value."
   ]
  },
  {
   "cell_type": "markdown",
   "metadata": {
    "hidden": true
   },
   "source": [
    "For example, it might make sense to fill the value as \"MISSING\" or \"UNKNOWN\". This way it's clearer when do more analysis."
   ]
  },
  {
   "cell_type": "markdown",
   "metadata": {
    "hidden": true
   },
   "source": [
    "> We can use Pandas' [`fillna()` method](https://pandas.pydata.org/pandas-docs/stable/reference/api/pandas.DataFrame.fillna.html) to replace missing values with something specific"
   ]
  },
  {
   "cell_type": "code",
   "execution_count": 22,
   "metadata": {
    "hidden": true
   },
   "outputs": [
    {
     "data": {
      "text/html": [
       "<div>\n",
       "<style scoped>\n",
       "    .dataframe tbody tr th:only-of-type {\n",
       "        vertical-align: middle;\n",
       "    }\n",
       "\n",
       "    .dataframe tbody tr th {\n",
       "        vertical-align: top;\n",
       "    }\n",
       "\n",
       "    .dataframe thead th {\n",
       "        text-align: right;\n",
       "    }\n",
       "</style>\n",
       "<table border=\"1\" class=\"dataframe\">\n",
       "  <thead>\n",
       "    <tr style=\"text-align: right;\">\n",
       "      <th></th>\n",
       "      <th>animal_id</th>\n",
       "      <th>datetime</th>\n",
       "      <th>monthyear</th>\n",
       "      <th>date_of_birth</th>\n",
       "      <th>outcome_type</th>\n",
       "      <th>outcome_subtype</th>\n",
       "      <th>animal_type</th>\n",
       "      <th>sex_upon_outcome</th>\n",
       "      <th>age_upon_outcome</th>\n",
       "      <th>breed</th>\n",
       "      <th>color</th>\n",
       "      <th>name</th>\n",
       "      <th>new_age1</th>\n",
       "      <th>new_sex1</th>\n",
       "    </tr>\n",
       "  </thead>\n",
       "  <tbody>\n",
       "    <tr>\n",
       "      <th>0</th>\n",
       "      <td>A862733</td>\n",
       "      <td>2022-08-04 11:42:00</td>\n",
       "      <td>2022-08-04T11:42:00.000</td>\n",
       "      <td>2022-03-30T00:00:00.000</td>\n",
       "      <td>Euthanasia</td>\n",
       "      <td>Suffering</td>\n",
       "      <td>Other</td>\n",
       "      <td>Unknown</td>\n",
       "      <td>4 months</td>\n",
       "      <td>Raccoon</td>\n",
       "      <td>Gray/Black</td>\n",
       "      <td>UNKNOWN</td>\n",
       "      <td>4 months</td>\n",
       "      <td>Unknown</td>\n",
       "    </tr>\n",
       "    <tr>\n",
       "      <th>1</th>\n",
       "      <td>A861193</td>\n",
       "      <td>2022-08-04 06:49:00</td>\n",
       "      <td>2022-08-04T06:49:00.000</td>\n",
       "      <td>2019-07-08T00:00:00.000</td>\n",
       "      <td>Adoption</td>\n",
       "      <td>Foster</td>\n",
       "      <td>Dog</td>\n",
       "      <td>Spayed Female</td>\n",
       "      <td>3 years</td>\n",
       "      <td>English Foxhound/Pointer</td>\n",
       "      <td>Tan/White</td>\n",
       "      <td>*Caprisun</td>\n",
       "      <td>3 years</td>\n",
       "      <td>Female</td>\n",
       "    </tr>\n",
       "    <tr>\n",
       "      <th>2</th>\n",
       "      <td>A862830</td>\n",
       "      <td>2022-08-03 19:11:00</td>\n",
       "      <td>2022-08-03T19:11:00.000</td>\n",
       "      <td>2002-08-01T00:00:00.000</td>\n",
       "      <td>Adoption</td>\n",
       "      <td>NaN</td>\n",
       "      <td>Dog</td>\n",
       "      <td>Intact Male</td>\n",
       "      <td>20 years</td>\n",
       "      <td>Miniature Poodle Mix</td>\n",
       "      <td>Apricot</td>\n",
       "      <td>Andy</td>\n",
       "      <td>20 years</td>\n",
       "      <td>Male</td>\n",
       "    </tr>\n",
       "    <tr>\n",
       "      <th>3</th>\n",
       "      <td>A862858</td>\n",
       "      <td>2022-08-03 19:10:00</td>\n",
       "      <td>2022-08-03T19:10:00.000</td>\n",
       "      <td>2016-08-01T00:00:00.000</td>\n",
       "      <td>Adoption</td>\n",
       "      <td>NaN</td>\n",
       "      <td>Dog</td>\n",
       "      <td>Neutered Male</td>\n",
       "      <td>6 years</td>\n",
       "      <td>Border Collie</td>\n",
       "      <td>Black/White</td>\n",
       "      <td>Frankie</td>\n",
       "      <td>6 years</td>\n",
       "      <td>Male</td>\n",
       "    </tr>\n",
       "    <tr>\n",
       "      <th>4</th>\n",
       "      <td>A861176</td>\n",
       "      <td>2022-08-03 18:46:00</td>\n",
       "      <td>2022-08-03T18:46:00.000</td>\n",
       "      <td>2022-05-08T00:00:00.000</td>\n",
       "      <td>Adoption</td>\n",
       "      <td>NaN</td>\n",
       "      <td>Cat</td>\n",
       "      <td>Neutered Male</td>\n",
       "      <td>2 months</td>\n",
       "      <td>Domestic Shorthair</td>\n",
       "      <td>Orange Tabby</td>\n",
       "      <td>*Kevin</td>\n",
       "      <td>2 months</td>\n",
       "      <td>Male</td>\n",
       "    </tr>\n",
       "  </tbody>\n",
       "</table>\n",
       "</div>"
      ],
      "text/plain": [
       "  animal_id            datetime                monthyear  \\\n",
       "0   A862733 2022-08-04 11:42:00  2022-08-04T11:42:00.000   \n",
       "1   A861193 2022-08-04 06:49:00  2022-08-04T06:49:00.000   \n",
       "2   A862830 2022-08-03 19:11:00  2022-08-03T19:11:00.000   \n",
       "3   A862858 2022-08-03 19:10:00  2022-08-03T19:10:00.000   \n",
       "4   A861176 2022-08-03 18:46:00  2022-08-03T18:46:00.000   \n",
       "\n",
       "             date_of_birth outcome_type outcome_subtype animal_type  \\\n",
       "0  2022-03-30T00:00:00.000   Euthanasia       Suffering       Other   \n",
       "1  2019-07-08T00:00:00.000     Adoption          Foster         Dog   \n",
       "2  2002-08-01T00:00:00.000     Adoption             NaN         Dog   \n",
       "3  2016-08-01T00:00:00.000     Adoption             NaN         Dog   \n",
       "4  2022-05-08T00:00:00.000     Adoption             NaN         Cat   \n",
       "\n",
       "  sex_upon_outcome age_upon_outcome                     breed         color  \\\n",
       "0          Unknown         4 months                   Raccoon    Gray/Black   \n",
       "1    Spayed Female          3 years  English Foxhound/Pointer     Tan/White   \n",
       "2      Intact Male         20 years      Miniature Poodle Mix       Apricot   \n",
       "3    Neutered Male          6 years             Border Collie   Black/White   \n",
       "4    Neutered Male         2 months        Domestic Shorthair  Orange Tabby   \n",
       "\n",
       "        name  new_age1 new_sex1  \n",
       "0    UNKNOWN  4 months  Unknown  \n",
       "1  *Caprisun   3 years   Female  \n",
       "2       Andy  20 years     Male  \n",
       "3    Frankie   6 years     Male  \n",
       "4     *Kevin  2 months     Male  "
      ]
     },
     "execution_count": 22,
     "metadata": {},
     "output_type": "execute_result"
    }
   ],
   "source": [
    "# Note this creates a copy of `animals` with the missing values replaced\n",
    "animals_name_filled = animals.fillna({'name':'UNKNOWN'}) # {col_name:new_value}\n",
    "animals_name_filled.head()"
   ]
  },
  {
   "cell_type": "code",
   "execution_count": 23,
   "metadata": {
    "hidden": true
   },
   "outputs": [
    {
     "data": {
      "text/html": [
       "<div>\n",
       "<style scoped>\n",
       "    .dataframe tbody tr th:only-of-type {\n",
       "        vertical-align: middle;\n",
       "    }\n",
       "\n",
       "    .dataframe tbody tr th {\n",
       "        vertical-align: top;\n",
       "    }\n",
       "\n",
       "    .dataframe thead th {\n",
       "        text-align: right;\n",
       "    }\n",
       "</style>\n",
       "<table border=\"1\" class=\"dataframe\">\n",
       "  <thead>\n",
       "    <tr style=\"text-align: right;\">\n",
       "      <th></th>\n",
       "      <th>animal_id</th>\n",
       "      <th>datetime</th>\n",
       "      <th>monthyear</th>\n",
       "      <th>date_of_birth</th>\n",
       "      <th>outcome_type</th>\n",
       "      <th>outcome_subtype</th>\n",
       "      <th>animal_type</th>\n",
       "      <th>sex_upon_outcome</th>\n",
       "      <th>age_upon_outcome</th>\n",
       "      <th>breed</th>\n",
       "      <th>color</th>\n",
       "      <th>name</th>\n",
       "      <th>new_age1</th>\n",
       "      <th>new_sex1</th>\n",
       "    </tr>\n",
       "  </thead>\n",
       "  <tbody>\n",
       "    <tr>\n",
       "      <th>0</th>\n",
       "      <td>A862733</td>\n",
       "      <td>2022-08-04 11:42:00</td>\n",
       "      <td>2022-08-04T11:42:00.000</td>\n",
       "      <td>2022-03-30T00:00:00.000</td>\n",
       "      <td>Euthanasia</td>\n",
       "      <td>Suffering</td>\n",
       "      <td>Other</td>\n",
       "      <td>Unknown</td>\n",
       "      <td>4 months</td>\n",
       "      <td>Raccoon</td>\n",
       "      <td>Gray/Black</td>\n",
       "      <td>NaN</td>\n",
       "      <td>4 months</td>\n",
       "      <td>Unknown</td>\n",
       "    </tr>\n",
       "    <tr>\n",
       "      <th>1</th>\n",
       "      <td>A861193</td>\n",
       "      <td>2022-08-04 06:49:00</td>\n",
       "      <td>2022-08-04T06:49:00.000</td>\n",
       "      <td>2019-07-08T00:00:00.000</td>\n",
       "      <td>Adoption</td>\n",
       "      <td>Foster</td>\n",
       "      <td>Dog</td>\n",
       "      <td>Spayed Female</td>\n",
       "      <td>3 years</td>\n",
       "      <td>English Foxhound/Pointer</td>\n",
       "      <td>Tan/White</td>\n",
       "      <td>*Caprisun</td>\n",
       "      <td>3 years</td>\n",
       "      <td>Female</td>\n",
       "    </tr>\n",
       "    <tr>\n",
       "      <th>2</th>\n",
       "      <td>A862830</td>\n",
       "      <td>2022-08-03 19:11:00</td>\n",
       "      <td>2022-08-03T19:11:00.000</td>\n",
       "      <td>2002-08-01T00:00:00.000</td>\n",
       "      <td>Adoption</td>\n",
       "      <td>NaN</td>\n",
       "      <td>Dog</td>\n",
       "      <td>Intact Male</td>\n",
       "      <td>20 years</td>\n",
       "      <td>Miniature Poodle Mix</td>\n",
       "      <td>Apricot</td>\n",
       "      <td>Andy</td>\n",
       "      <td>20 years</td>\n",
       "      <td>Male</td>\n",
       "    </tr>\n",
       "    <tr>\n",
       "      <th>3</th>\n",
       "      <td>A862858</td>\n",
       "      <td>2022-08-03 19:10:00</td>\n",
       "      <td>2022-08-03T19:10:00.000</td>\n",
       "      <td>2016-08-01T00:00:00.000</td>\n",
       "      <td>Adoption</td>\n",
       "      <td>NaN</td>\n",
       "      <td>Dog</td>\n",
       "      <td>Neutered Male</td>\n",
       "      <td>6 years</td>\n",
       "      <td>Border Collie</td>\n",
       "      <td>Black/White</td>\n",
       "      <td>Frankie</td>\n",
       "      <td>6 years</td>\n",
       "      <td>Male</td>\n",
       "    </tr>\n",
       "    <tr>\n",
       "      <th>4</th>\n",
       "      <td>A861176</td>\n",
       "      <td>2022-08-03 18:46:00</td>\n",
       "      <td>2022-08-03T18:46:00.000</td>\n",
       "      <td>2022-05-08T00:00:00.000</td>\n",
       "      <td>Adoption</td>\n",
       "      <td>NaN</td>\n",
       "      <td>Cat</td>\n",
       "      <td>Neutered Male</td>\n",
       "      <td>2 months</td>\n",
       "      <td>Domestic Shorthair</td>\n",
       "      <td>Orange Tabby</td>\n",
       "      <td>*Kevin</td>\n",
       "      <td>2 months</td>\n",
       "      <td>Male</td>\n",
       "    </tr>\n",
       "  </tbody>\n",
       "</table>\n",
       "</div>"
      ],
      "text/plain": [
       "  animal_id            datetime                monthyear  \\\n",
       "0   A862733 2022-08-04 11:42:00  2022-08-04T11:42:00.000   \n",
       "1   A861193 2022-08-04 06:49:00  2022-08-04T06:49:00.000   \n",
       "2   A862830 2022-08-03 19:11:00  2022-08-03T19:11:00.000   \n",
       "3   A862858 2022-08-03 19:10:00  2022-08-03T19:10:00.000   \n",
       "4   A861176 2022-08-03 18:46:00  2022-08-03T18:46:00.000   \n",
       "\n",
       "             date_of_birth outcome_type outcome_subtype animal_type  \\\n",
       "0  2022-03-30T00:00:00.000   Euthanasia       Suffering       Other   \n",
       "1  2019-07-08T00:00:00.000     Adoption          Foster         Dog   \n",
       "2  2002-08-01T00:00:00.000     Adoption             NaN         Dog   \n",
       "3  2016-08-01T00:00:00.000     Adoption             NaN         Dog   \n",
       "4  2022-05-08T00:00:00.000     Adoption             NaN         Cat   \n",
       "\n",
       "  sex_upon_outcome age_upon_outcome                     breed         color  \\\n",
       "0          Unknown         4 months                   Raccoon    Gray/Black   \n",
       "1    Spayed Female          3 years  English Foxhound/Pointer     Tan/White   \n",
       "2      Intact Male         20 years      Miniature Poodle Mix       Apricot   \n",
       "3    Neutered Male          6 years             Border Collie   Black/White   \n",
       "4    Neutered Male         2 months        Domestic Shorthair  Orange Tabby   \n",
       "\n",
       "        name  new_age1 new_sex1  \n",
       "0        NaN  4 months  Unknown  \n",
       "1  *Caprisun   3 years   Female  \n",
       "2       Andy  20 years     Male  \n",
       "3    Frankie   6 years     Male  \n",
       "4     *Kevin  2 months     Male  "
      ]
     },
     "execution_count": 23,
     "metadata": {},
     "output_type": "execute_result"
    }
   ],
   "source": [
    "# `animals` DataFrame is left untouched\n",
    "animals.head()"
   ]
  },
  {
   "cell_type": "code",
   "execution_count": 24,
   "metadata": {
    "hidden": true
   },
   "outputs": [
    {
     "data": {
      "text/html": [
       "<div>\n",
       "<style scoped>\n",
       "    .dataframe tbody tr th:only-of-type {\n",
       "        vertical-align: middle;\n",
       "    }\n",
       "\n",
       "    .dataframe tbody tr th {\n",
       "        vertical-align: top;\n",
       "    }\n",
       "\n",
       "    .dataframe thead th {\n",
       "        text-align: right;\n",
       "    }\n",
       "</style>\n",
       "<table border=\"1\" class=\"dataframe\">\n",
       "  <thead>\n",
       "    <tr style=\"text-align: right;\">\n",
       "      <th></th>\n",
       "      <th>name</th>\n",
       "    </tr>\n",
       "  </thead>\n",
       "  <tbody>\n",
       "    <tr>\n",
       "      <th>0</th>\n",
       "      <td>UNKNOWN</td>\n",
       "    </tr>\n",
       "    <tr>\n",
       "      <th>1</th>\n",
       "      <td>*Caprisun</td>\n",
       "    </tr>\n",
       "    <tr>\n",
       "      <th>2</th>\n",
       "      <td>Andy</td>\n",
       "    </tr>\n",
       "    <tr>\n",
       "      <th>3</th>\n",
       "      <td>Frankie</td>\n",
       "    </tr>\n",
       "    <tr>\n",
       "      <th>4</th>\n",
       "      <td>*Kevin</td>\n",
       "    </tr>\n",
       "  </tbody>\n",
       "</table>\n",
       "</div>"
      ],
      "text/plain": [
       "        name\n",
       "0    UNKNOWN\n",
       "1  *Caprisun\n",
       "2       Andy\n",
       "3    Frankie\n",
       "4     *Kevin"
      ]
     },
     "execution_count": 24,
     "metadata": {},
     "output_type": "execute_result"
    }
   ],
   "source": [
    "# Alternative way to fill missing values by specifying column(s) first\n",
    "animals_only_names = animals[['name']].fillna(value='UNKNOWN')\n",
    "animals_only_names.head()"
   ]
  },
  {
   "cell_type": "code",
   "execution_count": 25,
   "metadata": {
    "hidden": true
   },
   "outputs": [
    {
     "data": {
      "text/html": [
       "<div>\n",
       "<style scoped>\n",
       "    .dataframe tbody tr th:only-of-type {\n",
       "        vertical-align: middle;\n",
       "    }\n",
       "\n",
       "    .dataframe tbody tr th {\n",
       "        vertical-align: top;\n",
       "    }\n",
       "\n",
       "    .dataframe thead th {\n",
       "        text-align: right;\n",
       "    }\n",
       "</style>\n",
       "<table border=\"1\" class=\"dataframe\">\n",
       "  <thead>\n",
       "    <tr style=\"text-align: right;\">\n",
       "      <th></th>\n",
       "      <th>animal_id</th>\n",
       "      <th>datetime</th>\n",
       "      <th>monthyear</th>\n",
       "      <th>date_of_birth</th>\n",
       "      <th>outcome_type</th>\n",
       "      <th>outcome_subtype</th>\n",
       "      <th>animal_type</th>\n",
       "      <th>sex_upon_outcome</th>\n",
       "      <th>age_upon_outcome</th>\n",
       "      <th>breed</th>\n",
       "      <th>color</th>\n",
       "      <th>name</th>\n",
       "      <th>new_age1</th>\n",
       "      <th>new_sex1</th>\n",
       "    </tr>\n",
       "  </thead>\n",
       "  <tbody>\n",
       "    <tr>\n",
       "      <th>0</th>\n",
       "      <td>A862733</td>\n",
       "      <td>2022-08-04 11:42:00</td>\n",
       "      <td>2022-08-04T11:42:00.000</td>\n",
       "      <td>2022-03-30T00:00:00.000</td>\n",
       "      <td>Euthanasia</td>\n",
       "      <td>Suffering</td>\n",
       "      <td>Other</td>\n",
       "      <td>Unknown</td>\n",
       "      <td>4 months</td>\n",
       "      <td>Raccoon</td>\n",
       "      <td>Gray/Black</td>\n",
       "      <td>UNKNOWN</td>\n",
       "      <td>4 months</td>\n",
       "      <td>Unknown</td>\n",
       "    </tr>\n",
       "    <tr>\n",
       "      <th>1</th>\n",
       "      <td>A861193</td>\n",
       "      <td>2022-08-04 06:49:00</td>\n",
       "      <td>2022-08-04T06:49:00.000</td>\n",
       "      <td>2019-07-08T00:00:00.000</td>\n",
       "      <td>Adoption</td>\n",
       "      <td>Foster</td>\n",
       "      <td>Dog</td>\n",
       "      <td>Spayed Female</td>\n",
       "      <td>3 years</td>\n",
       "      <td>English Foxhound/Pointer</td>\n",
       "      <td>Tan/White</td>\n",
       "      <td>*Caprisun</td>\n",
       "      <td>3 years</td>\n",
       "      <td>Female</td>\n",
       "    </tr>\n",
       "    <tr>\n",
       "      <th>2</th>\n",
       "      <td>A862830</td>\n",
       "      <td>2022-08-03 19:11:00</td>\n",
       "      <td>2022-08-03T19:11:00.000</td>\n",
       "      <td>2002-08-01T00:00:00.000</td>\n",
       "      <td>Adoption</td>\n",
       "      <td>NaN</td>\n",
       "      <td>Dog</td>\n",
       "      <td>Intact Male</td>\n",
       "      <td>20 years</td>\n",
       "      <td>Miniature Poodle Mix</td>\n",
       "      <td>Apricot</td>\n",
       "      <td>Andy</td>\n",
       "      <td>20 years</td>\n",
       "      <td>Male</td>\n",
       "    </tr>\n",
       "    <tr>\n",
       "      <th>3</th>\n",
       "      <td>A862858</td>\n",
       "      <td>2022-08-03 19:10:00</td>\n",
       "      <td>2022-08-03T19:10:00.000</td>\n",
       "      <td>2016-08-01T00:00:00.000</td>\n",
       "      <td>Adoption</td>\n",
       "      <td>NaN</td>\n",
       "      <td>Dog</td>\n",
       "      <td>Neutered Male</td>\n",
       "      <td>6 years</td>\n",
       "      <td>Border Collie</td>\n",
       "      <td>Black/White</td>\n",
       "      <td>Frankie</td>\n",
       "      <td>6 years</td>\n",
       "      <td>Male</td>\n",
       "    </tr>\n",
       "    <tr>\n",
       "      <th>4</th>\n",
       "      <td>A861176</td>\n",
       "      <td>2022-08-03 18:46:00</td>\n",
       "      <td>2022-08-03T18:46:00.000</td>\n",
       "      <td>2022-05-08T00:00:00.000</td>\n",
       "      <td>Adoption</td>\n",
       "      <td>NaN</td>\n",
       "      <td>Cat</td>\n",
       "      <td>Neutered Male</td>\n",
       "      <td>2 months</td>\n",
       "      <td>Domestic Shorthair</td>\n",
       "      <td>Orange Tabby</td>\n",
       "      <td>*Kevin</td>\n",
       "      <td>2 months</td>\n",
       "      <td>Male</td>\n",
       "    </tr>\n",
       "  </tbody>\n",
       "</table>\n",
       "</div>"
      ],
      "text/plain": [
       "  animal_id            datetime                monthyear  \\\n",
       "0   A862733 2022-08-04 11:42:00  2022-08-04T11:42:00.000   \n",
       "1   A861193 2022-08-04 06:49:00  2022-08-04T06:49:00.000   \n",
       "2   A862830 2022-08-03 19:11:00  2022-08-03T19:11:00.000   \n",
       "3   A862858 2022-08-03 19:10:00  2022-08-03T19:10:00.000   \n",
       "4   A861176 2022-08-03 18:46:00  2022-08-03T18:46:00.000   \n",
       "\n",
       "             date_of_birth outcome_type outcome_subtype animal_type  \\\n",
       "0  2022-03-30T00:00:00.000   Euthanasia       Suffering       Other   \n",
       "1  2019-07-08T00:00:00.000     Adoption          Foster         Dog   \n",
       "2  2002-08-01T00:00:00.000     Adoption             NaN         Dog   \n",
       "3  2016-08-01T00:00:00.000     Adoption             NaN         Dog   \n",
       "4  2022-05-08T00:00:00.000     Adoption             NaN         Cat   \n",
       "\n",
       "  sex_upon_outcome age_upon_outcome                     breed         color  \\\n",
       "0          Unknown         4 months                   Raccoon    Gray/Black   \n",
       "1    Spayed Female          3 years  English Foxhound/Pointer     Tan/White   \n",
       "2      Intact Male         20 years      Miniature Poodle Mix       Apricot   \n",
       "3    Neutered Male          6 years             Border Collie   Black/White   \n",
       "4    Neutered Male         2 months        Domestic Shorthair  Orange Tabby   \n",
       "\n",
       "        name  new_age1 new_sex1  \n",
       "0    UNKNOWN  4 months  Unknown  \n",
       "1  *Caprisun   3 years   Female  \n",
       "2       Andy  20 years     Male  \n",
       "3    Frankie   6 years     Male  \n",
       "4     *Kevin  2 months     Male  "
      ]
     },
     "execution_count": 25,
     "metadata": {},
     "output_type": "execute_result"
    }
   ],
   "source": [
    "# To keep changes in DataFrame, overwrite the column\n",
    "animals_clean[['name']] = animals_only_names\n",
    "animals_clean.head()"
   ]
  },
  {
   "cell_type": "markdown",
   "metadata": {
    "heading_collapsed": true,
    "hidden": true
   },
   "source": [
    "## Fill with a Reasonable Value"
   ]
  },
  {
   "cell_type": "markdown",
   "metadata": {
    "hidden": true
   },
   "source": [
    "Other times we don't know what the missing value was but we might have a reasonable guess. This allows us to still use the data point (row) in our analysis."
   ]
  },
  {
   "cell_type": "markdown",
   "metadata": {
    "hidden": true
   },
   "source": [
    "> Beware that filling in missing values can lead to you drawing incorrect conclusions. If most of the data from a column are missing, it's going to appear that the value you filled it in with is more common that it actually was!"
   ]
  },
  {
   "cell_type": "markdown",
   "metadata": {
    "hidden": true
   },
   "source": [
    "A lot of the time we'll use the _mean_ or _median_ for numerical values. Sometimes values like $0$ make sense since it might make sense in the context of how the data was collected.\n",
    "\n",
    "With categorical values, you might choose to fill the missing values with the most common value (the _mode_)."
   ]
  },
  {
   "cell_type": "markdown",
   "metadata": {
    "hidden": true
   },
   "source": [
    "> Similar to the previous subsection, we can use the `fillna()` method after specifying the value to fill"
   ]
  },
  {
   "cell_type": "code",
   "execution_count": 26,
   "metadata": {
    "hidden": true
   },
   "outputs": [
    {
     "data": {
      "text/plain": [
       "Partner                189\n",
       "Foster                 126\n",
       "Out State               76\n",
       "Suffering               26\n",
       "Snr                     20\n",
       "Rabies Risk             18\n",
       "In Foster                7\n",
       "In Kennel                6\n",
       "At Vet                   2\n",
       "Court/Investigation      2\n",
       "Behavior                 1\n",
       "In Surgery               1\n",
       "Aggressive               1\n",
       "Name: outcome_subtype, dtype: int64"
      ]
     },
     "execution_count": 26,
     "metadata": {},
     "output_type": "execute_result"
    }
   ],
   "source": [
    "## Let's find the most common value for `outcome_subtype`\n",
    "outcome_subtype_counts = animals['outcome_subtype'].value_counts()\n",
    "outcome_subtype_counts"
   ]
  },
  {
   "cell_type": "code",
   "execution_count": 27,
   "metadata": {
    "hidden": true
   },
   "outputs": [
    {
     "name": "stdout",
     "output_type": "stream",
     "text": [
      "Index(['Partner', 'Foster', 'Out State', 'Suffering', 'Snr', 'Rabies Risk',\n",
      "       'In Foster', 'In Kennel', 'At Vet', 'Court/Investigation', 'Behavior',\n",
      "       'In Surgery', 'Aggressive'],\n",
      "      dtype='object')\n"
     ]
    }
   ],
   "source": [
    "# This gets us just the values in order of most frequent to least frequent\n",
    "outcome_subtype_ordered = outcome_subtype_counts.index\n",
    "print(outcome_subtype_ordered)\n",
    "\n",
    "# Get the first one\n",
    "most_common_outcome_subtype = outcome_subtype_ordered[0]"
   ]
  },
  {
   "cell_type": "code",
   "execution_count": 28,
   "metadata": {
    "hidden": true
   },
   "outputs": [
    {
     "data": {
      "text/plain": [
       "'Partner'"
      ]
     },
     "execution_count": 28,
     "metadata": {},
     "output_type": "execute_result"
    }
   ],
   "source": [
    "# Using the built-in mode() method\n",
    "# Note this is Series so we have to get the first element (which is the value)\n",
    "most_common_outcome_subtype = animals['outcome_subtype'].mode()[0]\n",
    "most_common_outcome_subtype"
   ]
  },
  {
   "cell_type": "code",
   "execution_count": 29,
   "metadata": {
    "hidden": true,
    "scrolled": true
   },
   "outputs": [
    {
     "data": {
      "text/html": [
       "<div>\n",
       "<style scoped>\n",
       "    .dataframe tbody tr th:only-of-type {\n",
       "        vertical-align: middle;\n",
       "    }\n",
       "\n",
       "    .dataframe tbody tr th {\n",
       "        vertical-align: top;\n",
       "    }\n",
       "\n",
       "    .dataframe thead th {\n",
       "        text-align: right;\n",
       "    }\n",
       "</style>\n",
       "<table border=\"1\" class=\"dataframe\">\n",
       "  <thead>\n",
       "    <tr style=\"text-align: right;\">\n",
       "      <th></th>\n",
       "      <th>animal_id</th>\n",
       "      <th>datetime</th>\n",
       "      <th>monthyear</th>\n",
       "      <th>date_of_birth</th>\n",
       "      <th>outcome_type</th>\n",
       "      <th>outcome_subtype</th>\n",
       "      <th>animal_type</th>\n",
       "      <th>sex_upon_outcome</th>\n",
       "      <th>age_upon_outcome</th>\n",
       "      <th>breed</th>\n",
       "      <th>color</th>\n",
       "      <th>name</th>\n",
       "      <th>new_age1</th>\n",
       "      <th>new_sex1</th>\n",
       "    </tr>\n",
       "  </thead>\n",
       "  <tbody>\n",
       "    <tr>\n",
       "      <th>0</th>\n",
       "      <td>A862733</td>\n",
       "      <td>2022-08-04 11:42:00</td>\n",
       "      <td>2022-08-04T11:42:00.000</td>\n",
       "      <td>2022-03-30T00:00:00.000</td>\n",
       "      <td>Euthanasia</td>\n",
       "      <td>Suffering</td>\n",
       "      <td>Other</td>\n",
       "      <td>Unknown</td>\n",
       "      <td>4 months</td>\n",
       "      <td>Raccoon</td>\n",
       "      <td>Gray/Black</td>\n",
       "      <td>UNKNOWN</td>\n",
       "      <td>4 months</td>\n",
       "      <td>Unknown</td>\n",
       "    </tr>\n",
       "    <tr>\n",
       "      <th>1</th>\n",
       "      <td>A861193</td>\n",
       "      <td>2022-08-04 06:49:00</td>\n",
       "      <td>2022-08-04T06:49:00.000</td>\n",
       "      <td>2019-07-08T00:00:00.000</td>\n",
       "      <td>Adoption</td>\n",
       "      <td>Foster</td>\n",
       "      <td>Dog</td>\n",
       "      <td>Spayed Female</td>\n",
       "      <td>3 years</td>\n",
       "      <td>English Foxhound/Pointer</td>\n",
       "      <td>Tan/White</td>\n",
       "      <td>*Caprisun</td>\n",
       "      <td>3 years</td>\n",
       "      <td>Female</td>\n",
       "    </tr>\n",
       "    <tr>\n",
       "      <th>2</th>\n",
       "      <td>A862830</td>\n",
       "      <td>2022-08-03 19:11:00</td>\n",
       "      <td>2022-08-03T19:11:00.000</td>\n",
       "      <td>2002-08-01T00:00:00.000</td>\n",
       "      <td>Adoption</td>\n",
       "      <td>Partner</td>\n",
       "      <td>Dog</td>\n",
       "      <td>Intact Male</td>\n",
       "      <td>20 years</td>\n",
       "      <td>Miniature Poodle Mix</td>\n",
       "      <td>Apricot</td>\n",
       "      <td>Andy</td>\n",
       "      <td>20 years</td>\n",
       "      <td>Male</td>\n",
       "    </tr>\n",
       "    <tr>\n",
       "      <th>3</th>\n",
       "      <td>A862858</td>\n",
       "      <td>2022-08-03 19:10:00</td>\n",
       "      <td>2022-08-03T19:10:00.000</td>\n",
       "      <td>2016-08-01T00:00:00.000</td>\n",
       "      <td>Adoption</td>\n",
       "      <td>Partner</td>\n",
       "      <td>Dog</td>\n",
       "      <td>Neutered Male</td>\n",
       "      <td>6 years</td>\n",
       "      <td>Border Collie</td>\n",
       "      <td>Black/White</td>\n",
       "      <td>Frankie</td>\n",
       "      <td>6 years</td>\n",
       "      <td>Male</td>\n",
       "    </tr>\n",
       "    <tr>\n",
       "      <th>4</th>\n",
       "      <td>A861176</td>\n",
       "      <td>2022-08-03 18:46:00</td>\n",
       "      <td>2022-08-03T18:46:00.000</td>\n",
       "      <td>2022-05-08T00:00:00.000</td>\n",
       "      <td>Adoption</td>\n",
       "      <td>Partner</td>\n",
       "      <td>Cat</td>\n",
       "      <td>Neutered Male</td>\n",
       "      <td>2 months</td>\n",
       "      <td>Domestic Shorthair</td>\n",
       "      <td>Orange Tabby</td>\n",
       "      <td>*Kevin</td>\n",
       "      <td>2 months</td>\n",
       "      <td>Male</td>\n",
       "    </tr>\n",
       "  </tbody>\n",
       "</table>\n",
       "</div>"
      ],
      "text/plain": [
       "  animal_id            datetime                monthyear  \\\n",
       "0   A862733 2022-08-04 11:42:00  2022-08-04T11:42:00.000   \n",
       "1   A861193 2022-08-04 06:49:00  2022-08-04T06:49:00.000   \n",
       "2   A862830 2022-08-03 19:11:00  2022-08-03T19:11:00.000   \n",
       "3   A862858 2022-08-03 19:10:00  2022-08-03T19:10:00.000   \n",
       "4   A861176 2022-08-03 18:46:00  2022-08-03T18:46:00.000   \n",
       "\n",
       "             date_of_birth outcome_type outcome_subtype animal_type  \\\n",
       "0  2022-03-30T00:00:00.000   Euthanasia       Suffering       Other   \n",
       "1  2019-07-08T00:00:00.000     Adoption          Foster         Dog   \n",
       "2  2002-08-01T00:00:00.000     Adoption         Partner         Dog   \n",
       "3  2016-08-01T00:00:00.000     Adoption         Partner         Dog   \n",
       "4  2022-05-08T00:00:00.000     Adoption         Partner         Cat   \n",
       "\n",
       "  sex_upon_outcome age_upon_outcome                     breed         color  \\\n",
       "0          Unknown         4 months                   Raccoon    Gray/Black   \n",
       "1    Spayed Female          3 years  English Foxhound/Pointer     Tan/White   \n",
       "2      Intact Male         20 years      Miniature Poodle Mix       Apricot   \n",
       "3    Neutered Male          6 years             Border Collie   Black/White   \n",
       "4    Neutered Male         2 months        Domestic Shorthair  Orange Tabby   \n",
       "\n",
       "        name  new_age1 new_sex1  \n",
       "0    UNKNOWN  4 months  Unknown  \n",
       "1  *Caprisun   3 years   Female  \n",
       "2       Andy  20 years     Male  \n",
       "3    Frankie   6 years     Male  \n",
       "4     *Kevin  2 months     Male  "
      ]
     },
     "execution_count": 29,
     "metadata": {},
     "output_type": "execute_result"
    }
   ],
   "source": [
    "# Similar to the previous subsection, we can use fillna() and update the DF\n",
    "animals_clean['outcome_subtype'] = animals['outcome_subtype'].fillna(most_common_outcome_subtype)\n",
    "animals_clean.head()"
   ]
  },
  {
   "cell_type": "markdown",
   "metadata": {
    "heading_collapsed": true,
    "hidden": true
   },
   "source": [
    "## Specify That the Data Were Missing"
   ]
  },
  {
   "cell_type": "markdown",
   "metadata": {
    "hidden": true
   },
   "source": [
    "Even after filling in missing values, it might make sense to specify that there were missing data. You can document that the data was missing by creating a new column that represents whether the data was originally missing or not."
   ]
  },
  {
   "cell_type": "markdown",
   "metadata": {
    "hidden": true
   },
   "source": [
    "This can be helpful when you suspect that the fact the data was missing could be important for an analysis."
   ]
  },
  {
   "cell_type": "markdown",
   "metadata": {
    "hidden": true
   },
   "source": [
    "> Since we already removed some missing values, we're going to reference back to the original `animals` DataFrame. (Good thing we didn't overwrite it! 😉)"
   ]
  },
  {
   "cell_type": "code",
   "execution_count": 30,
   "metadata": {
    "hidden": true
   },
   "outputs": [
    {
     "data": {
      "text/plain": [
       "0      False\n",
       "1      False\n",
       "2       True\n",
       "3       True\n",
       "4       True\n",
       "       ...  \n",
       "995    False\n",
       "996     True\n",
       "997    False\n",
       "998    False\n",
       "999    False\n",
       "Name: outcome_subtype, Length: 1000, dtype: bool"
      ]
     },
     "execution_count": 30,
     "metadata": {},
     "output_type": "execute_result"
    }
   ],
   "source": [
    "# Let's specify which values were originally missing in \"outcome_subtype\"\n",
    "missing_outcome_subtypes = animals['outcome_subtype'].isna()\n",
    "missing_outcome_subtypes"
   ]
  },
  {
   "cell_type": "code",
   "execution_count": 31,
   "metadata": {
    "hidden": true
   },
   "outputs": [
    {
     "data": {
      "text/html": [
       "<div>\n",
       "<style scoped>\n",
       "    .dataframe tbody tr th:only-of-type {\n",
       "        vertical-align: middle;\n",
       "    }\n",
       "\n",
       "    .dataframe tbody tr th {\n",
       "        vertical-align: top;\n",
       "    }\n",
       "\n",
       "    .dataframe thead th {\n",
       "        text-align: right;\n",
       "    }\n",
       "</style>\n",
       "<table border=\"1\" class=\"dataframe\">\n",
       "  <thead>\n",
       "    <tr style=\"text-align: right;\">\n",
       "      <th></th>\n",
       "      <th>animal_id</th>\n",
       "      <th>datetime</th>\n",
       "      <th>monthyear</th>\n",
       "      <th>date_of_birth</th>\n",
       "      <th>outcome_type</th>\n",
       "      <th>outcome_subtype</th>\n",
       "      <th>animal_type</th>\n",
       "      <th>sex_upon_outcome</th>\n",
       "      <th>age_upon_outcome</th>\n",
       "      <th>breed</th>\n",
       "      <th>color</th>\n",
       "      <th>name</th>\n",
       "      <th>new_age1</th>\n",
       "      <th>new_sex1</th>\n",
       "      <th>outcome_subtype_missing</th>\n",
       "    </tr>\n",
       "  </thead>\n",
       "  <tbody>\n",
       "    <tr>\n",
       "      <th>0</th>\n",
       "      <td>A862733</td>\n",
       "      <td>2022-08-04 11:42:00</td>\n",
       "      <td>2022-08-04T11:42:00.000</td>\n",
       "      <td>2022-03-30T00:00:00.000</td>\n",
       "      <td>Euthanasia</td>\n",
       "      <td>Suffering</td>\n",
       "      <td>Other</td>\n",
       "      <td>Unknown</td>\n",
       "      <td>4 months</td>\n",
       "      <td>Raccoon</td>\n",
       "      <td>Gray/Black</td>\n",
       "      <td>UNKNOWN</td>\n",
       "      <td>4 months</td>\n",
       "      <td>Unknown</td>\n",
       "      <td>False</td>\n",
       "    </tr>\n",
       "    <tr>\n",
       "      <th>1</th>\n",
       "      <td>A861193</td>\n",
       "      <td>2022-08-04 06:49:00</td>\n",
       "      <td>2022-08-04T06:49:00.000</td>\n",
       "      <td>2019-07-08T00:00:00.000</td>\n",
       "      <td>Adoption</td>\n",
       "      <td>Foster</td>\n",
       "      <td>Dog</td>\n",
       "      <td>Spayed Female</td>\n",
       "      <td>3 years</td>\n",
       "      <td>English Foxhound/Pointer</td>\n",
       "      <td>Tan/White</td>\n",
       "      <td>*Caprisun</td>\n",
       "      <td>3 years</td>\n",
       "      <td>Female</td>\n",
       "      <td>False</td>\n",
       "    </tr>\n",
       "    <tr>\n",
       "      <th>2</th>\n",
       "      <td>A862830</td>\n",
       "      <td>2022-08-03 19:11:00</td>\n",
       "      <td>2022-08-03T19:11:00.000</td>\n",
       "      <td>2002-08-01T00:00:00.000</td>\n",
       "      <td>Adoption</td>\n",
       "      <td>Partner</td>\n",
       "      <td>Dog</td>\n",
       "      <td>Intact Male</td>\n",
       "      <td>20 years</td>\n",
       "      <td>Miniature Poodle Mix</td>\n",
       "      <td>Apricot</td>\n",
       "      <td>Andy</td>\n",
       "      <td>20 years</td>\n",
       "      <td>Male</td>\n",
       "      <td>True</td>\n",
       "    </tr>\n",
       "    <tr>\n",
       "      <th>3</th>\n",
       "      <td>A862858</td>\n",
       "      <td>2022-08-03 19:10:00</td>\n",
       "      <td>2022-08-03T19:10:00.000</td>\n",
       "      <td>2016-08-01T00:00:00.000</td>\n",
       "      <td>Adoption</td>\n",
       "      <td>Partner</td>\n",
       "      <td>Dog</td>\n",
       "      <td>Neutered Male</td>\n",
       "      <td>6 years</td>\n",
       "      <td>Border Collie</td>\n",
       "      <td>Black/White</td>\n",
       "      <td>Frankie</td>\n",
       "      <td>6 years</td>\n",
       "      <td>Male</td>\n",
       "      <td>True</td>\n",
       "    </tr>\n",
       "    <tr>\n",
       "      <th>4</th>\n",
       "      <td>A861176</td>\n",
       "      <td>2022-08-03 18:46:00</td>\n",
       "      <td>2022-08-03T18:46:00.000</td>\n",
       "      <td>2022-05-08T00:00:00.000</td>\n",
       "      <td>Adoption</td>\n",
       "      <td>Partner</td>\n",
       "      <td>Cat</td>\n",
       "      <td>Neutered Male</td>\n",
       "      <td>2 months</td>\n",
       "      <td>Domestic Shorthair</td>\n",
       "      <td>Orange Tabby</td>\n",
       "      <td>*Kevin</td>\n",
       "      <td>2 months</td>\n",
       "      <td>Male</td>\n",
       "      <td>True</td>\n",
       "    </tr>\n",
       "  </tbody>\n",
       "</table>\n",
       "</div>"
      ],
      "text/plain": [
       "  animal_id            datetime                monthyear  \\\n",
       "0   A862733 2022-08-04 11:42:00  2022-08-04T11:42:00.000   \n",
       "1   A861193 2022-08-04 06:49:00  2022-08-04T06:49:00.000   \n",
       "2   A862830 2022-08-03 19:11:00  2022-08-03T19:11:00.000   \n",
       "3   A862858 2022-08-03 19:10:00  2022-08-03T19:10:00.000   \n",
       "4   A861176 2022-08-03 18:46:00  2022-08-03T18:46:00.000   \n",
       "\n",
       "             date_of_birth outcome_type outcome_subtype animal_type  \\\n",
       "0  2022-03-30T00:00:00.000   Euthanasia       Suffering       Other   \n",
       "1  2019-07-08T00:00:00.000     Adoption          Foster         Dog   \n",
       "2  2002-08-01T00:00:00.000     Adoption         Partner         Dog   \n",
       "3  2016-08-01T00:00:00.000     Adoption         Partner         Dog   \n",
       "4  2022-05-08T00:00:00.000     Adoption         Partner         Cat   \n",
       "\n",
       "  sex_upon_outcome age_upon_outcome                     breed         color  \\\n",
       "0          Unknown         4 months                   Raccoon    Gray/Black   \n",
       "1    Spayed Female          3 years  English Foxhound/Pointer     Tan/White   \n",
       "2      Intact Male         20 years      Miniature Poodle Mix       Apricot   \n",
       "3    Neutered Male          6 years             Border Collie   Black/White   \n",
       "4    Neutered Male         2 months        Domestic Shorthair  Orange Tabby   \n",
       "\n",
       "        name  new_age1 new_sex1  outcome_subtype_missing  \n",
       "0    UNKNOWN  4 months  Unknown                    False  \n",
       "1  *Caprisun   3 years   Female                    False  \n",
       "2       Andy  20 years     Male                     True  \n",
       "3    Frankie   6 years     Male                     True  \n",
       "4     *Kevin  2 months     Male                     True  "
      ]
     },
     "execution_count": 31,
     "metadata": {},
     "output_type": "execute_result"
    }
   ],
   "source": [
    "# Create new column for missing outcome subtypes matched w/ replaced values\n",
    "animals_clean['outcome_subtype_missing'] = missing_outcome_subtypes\n",
    "animals_clean.head()"
   ]
  },
  {
   "cell_type": "markdown",
   "metadata": {
    "heading_collapsed": true,
    "hidden": true
   },
   "source": [
    "## Drop Missing Data"
   ]
  },
  {
   "cell_type": "markdown",
   "metadata": {
    "hidden": true
   },
   "source": [
    "You should try to keep as much relevant data as possible, but sometimes the other methods don't make as much sense and it's better to remove or **drop** the missing data."
   ]
  },
  {
   "cell_type": "markdown",
   "metadata": {
    "hidden": true
   },
   "source": [
    "We typically drop missing data if very little data would be lost and/or trying to fill in the values wouldn't make sense for our use case. For example, if you're trying to predict the outcome based on the other features/columns it might not make sense to fill in those missing values with something you can't confirm."
   ]
  },
  {
   "cell_type": "markdown",
   "metadata": {
    "hidden": true
   },
   "source": [
    "> We noticed that `outcome_type` had only two missing values. It might not be worth trying to handle those two missing values. We can pretend that the `outcome_type` was an important feature and without it the rest of the row's data is of little importance to us.\n",
    ">\n",
    "> So we'll decide to drop the row if a value from `outcome_type` is missing. We'll use Pandas' [`dropna()` method](https://pandas.pydata.org/pandas-docs/stable/reference/api/pandas.DataFrame.dropna.html)."
   ]
  },
  {
   "cell_type": "code",
   "execution_count": 32,
   "metadata": {
    "hidden": true
   },
   "outputs": [
    {
     "data": {
      "text/html": [
       "<div>\n",
       "<style scoped>\n",
       "    .dataframe tbody tr th:only-of-type {\n",
       "        vertical-align: middle;\n",
       "    }\n",
       "\n",
       "    .dataframe tbody tr th {\n",
       "        vertical-align: top;\n",
       "    }\n",
       "\n",
       "    .dataframe thead th {\n",
       "        text-align: right;\n",
       "    }\n",
       "</style>\n",
       "<table border=\"1\" class=\"dataframe\">\n",
       "  <thead>\n",
       "    <tr style=\"text-align: right;\">\n",
       "      <th></th>\n",
       "      <th>animal_id</th>\n",
       "      <th>datetime</th>\n",
       "      <th>monthyear</th>\n",
       "      <th>date_of_birth</th>\n",
       "      <th>outcome_type</th>\n",
       "      <th>outcome_subtype</th>\n",
       "      <th>animal_type</th>\n",
       "      <th>sex_upon_outcome</th>\n",
       "      <th>age_upon_outcome</th>\n",
       "      <th>breed</th>\n",
       "      <th>color</th>\n",
       "      <th>name</th>\n",
       "      <th>new_age1</th>\n",
       "      <th>new_sex1</th>\n",
       "      <th>outcome_subtype_missing</th>\n",
       "    </tr>\n",
       "  </thead>\n",
       "  <tbody>\n",
       "    <tr>\n",
       "      <th>0</th>\n",
       "      <td>A862733</td>\n",
       "      <td>2022-08-04 11:42:00</td>\n",
       "      <td>2022-08-04T11:42:00.000</td>\n",
       "      <td>2022-03-30T00:00:00.000</td>\n",
       "      <td>Euthanasia</td>\n",
       "      <td>Suffering</td>\n",
       "      <td>Other</td>\n",
       "      <td>Unknown</td>\n",
       "      <td>4 months</td>\n",
       "      <td>Raccoon</td>\n",
       "      <td>Gray/Black</td>\n",
       "      <td>UNKNOWN</td>\n",
       "      <td>4 months</td>\n",
       "      <td>Unknown</td>\n",
       "      <td>False</td>\n",
       "    </tr>\n",
       "    <tr>\n",
       "      <th>1</th>\n",
       "      <td>A861193</td>\n",
       "      <td>2022-08-04 06:49:00</td>\n",
       "      <td>2022-08-04T06:49:00.000</td>\n",
       "      <td>2019-07-08T00:00:00.000</td>\n",
       "      <td>Adoption</td>\n",
       "      <td>Foster</td>\n",
       "      <td>Dog</td>\n",
       "      <td>Spayed Female</td>\n",
       "      <td>3 years</td>\n",
       "      <td>English Foxhound/Pointer</td>\n",
       "      <td>Tan/White</td>\n",
       "      <td>*Caprisun</td>\n",
       "      <td>3 years</td>\n",
       "      <td>Female</td>\n",
       "      <td>False</td>\n",
       "    </tr>\n",
       "    <tr>\n",
       "      <th>2</th>\n",
       "      <td>A862830</td>\n",
       "      <td>2022-08-03 19:11:00</td>\n",
       "      <td>2022-08-03T19:11:00.000</td>\n",
       "      <td>2002-08-01T00:00:00.000</td>\n",
       "      <td>Adoption</td>\n",
       "      <td>Partner</td>\n",
       "      <td>Dog</td>\n",
       "      <td>Intact Male</td>\n",
       "      <td>20 years</td>\n",
       "      <td>Miniature Poodle Mix</td>\n",
       "      <td>Apricot</td>\n",
       "      <td>Andy</td>\n",
       "      <td>20 years</td>\n",
       "      <td>Male</td>\n",
       "      <td>True</td>\n",
       "    </tr>\n",
       "    <tr>\n",
       "      <th>3</th>\n",
       "      <td>A862858</td>\n",
       "      <td>2022-08-03 19:10:00</td>\n",
       "      <td>2022-08-03T19:10:00.000</td>\n",
       "      <td>2016-08-01T00:00:00.000</td>\n",
       "      <td>Adoption</td>\n",
       "      <td>Partner</td>\n",
       "      <td>Dog</td>\n",
       "      <td>Neutered Male</td>\n",
       "      <td>6 years</td>\n",
       "      <td>Border Collie</td>\n",
       "      <td>Black/White</td>\n",
       "      <td>Frankie</td>\n",
       "      <td>6 years</td>\n",
       "      <td>Male</td>\n",
       "      <td>True</td>\n",
       "    </tr>\n",
       "    <tr>\n",
       "      <th>4</th>\n",
       "      <td>A861176</td>\n",
       "      <td>2022-08-03 18:46:00</td>\n",
       "      <td>2022-08-03T18:46:00.000</td>\n",
       "      <td>2022-05-08T00:00:00.000</td>\n",
       "      <td>Adoption</td>\n",
       "      <td>Partner</td>\n",
       "      <td>Cat</td>\n",
       "      <td>Neutered Male</td>\n",
       "      <td>2 months</td>\n",
       "      <td>Domestic Shorthair</td>\n",
       "      <td>Orange Tabby</td>\n",
       "      <td>*Kevin</td>\n",
       "      <td>2 months</td>\n",
       "      <td>Male</td>\n",
       "      <td>True</td>\n",
       "    </tr>\n",
       "  </tbody>\n",
       "</table>\n",
       "</div>"
      ],
      "text/plain": [
       "  animal_id            datetime                monthyear  \\\n",
       "0   A862733 2022-08-04 11:42:00  2022-08-04T11:42:00.000   \n",
       "1   A861193 2022-08-04 06:49:00  2022-08-04T06:49:00.000   \n",
       "2   A862830 2022-08-03 19:11:00  2022-08-03T19:11:00.000   \n",
       "3   A862858 2022-08-03 19:10:00  2022-08-03T19:10:00.000   \n",
       "4   A861176 2022-08-03 18:46:00  2022-08-03T18:46:00.000   \n",
       "\n",
       "             date_of_birth outcome_type outcome_subtype animal_type  \\\n",
       "0  2022-03-30T00:00:00.000   Euthanasia       Suffering       Other   \n",
       "1  2019-07-08T00:00:00.000     Adoption          Foster         Dog   \n",
       "2  2002-08-01T00:00:00.000     Adoption         Partner         Dog   \n",
       "3  2016-08-01T00:00:00.000     Adoption         Partner         Dog   \n",
       "4  2022-05-08T00:00:00.000     Adoption         Partner         Cat   \n",
       "\n",
       "  sex_upon_outcome age_upon_outcome                     breed         color  \\\n",
       "0          Unknown         4 months                   Raccoon    Gray/Black   \n",
       "1    Spayed Female          3 years  English Foxhound/Pointer     Tan/White   \n",
       "2      Intact Male         20 years      Miniature Poodle Mix       Apricot   \n",
       "3    Neutered Male          6 years             Border Collie   Black/White   \n",
       "4    Neutered Male         2 months        Domestic Shorthair  Orange Tabby   \n",
       "\n",
       "        name  new_age1 new_sex1  outcome_subtype_missing  \n",
       "0    UNKNOWN  4 months  Unknown                    False  \n",
       "1  *Caprisun   3 years   Female                    False  \n",
       "2       Andy  20 years     Male                     True  \n",
       "3    Frankie   6 years     Male                     True  \n",
       "4     *Kevin  2 months     Male                     True  "
      ]
     },
     "execution_count": 32,
     "metadata": {},
     "output_type": "execute_result"
    }
   ],
   "source": [
    "# This will drop any row (axis=0) or column (axis=1) that has missing values\n",
    "animals_clean = animals_clean.dropna(   # Note we're overwriting animals_clean\n",
    "                                axis=0, # This is the default & will drop rows; axis=1 for cols\n",
    "                                subset=['outcome_type'] # Specific labels to consider (defaults to all)\n",
    ")\n",
    "animals_clean.head()"
   ]
  },
  {
   "cell_type": "markdown",
   "metadata": {
    "heading_collapsed": true,
    "hidden": true
   },
   "source": [
    "## Comparing Before and After"
   ]
  },
  {
   "cell_type": "markdown",
   "metadata": {
    "hidden": true
   },
   "source": [
    "We can now see all the work we did!"
   ]
  },
  {
   "cell_type": "code",
   "execution_count": 33,
   "metadata": {
    "hidden": true
   },
   "outputs": [
    {
     "name": "stdout",
     "output_type": "stream",
     "text": [
      "<class 'pandas.core.frame.DataFrame'>\n",
      "RangeIndex: 1000 entries, 0 to 999\n",
      "Data columns (total 14 columns):\n",
      " #   Column            Non-Null Count  Dtype         \n",
      "---  ------            --------------  -----         \n",
      " 0   animal_id         1000 non-null   object        \n",
      " 1   datetime          1000 non-null   datetime64[ns]\n",
      " 2   monthyear         1000 non-null   object        \n",
      " 3   date_of_birth     1000 non-null   object        \n",
      " 4   outcome_type      1000 non-null   object        \n",
      " 5   outcome_subtype   475 non-null    object        \n",
      " 6   animal_type       1000 non-null   object        \n",
      " 7   sex_upon_outcome  1000 non-null   object        \n",
      " 8   age_upon_outcome  1000 non-null   object        \n",
      " 9   breed             1000 non-null   object        \n",
      " 10  color             1000 non-null   object        \n",
      " 11  name              789 non-null    object        \n",
      " 12  new_age1          1000 non-null   object        \n",
      " 13  new_sex1          1000 non-null   object        \n",
      "dtypes: datetime64[ns](1), object(13)\n",
      "memory usage: 109.5+ KB\n"
     ]
    }
   ],
   "source": [
    "# Original data\n",
    "animals.info()"
   ]
  },
  {
   "cell_type": "code",
   "execution_count": 34,
   "metadata": {
    "hidden": true
   },
   "outputs": [
    {
     "name": "stdout",
     "output_type": "stream",
     "text": [
      "<class 'pandas.core.frame.DataFrame'>\n",
      "RangeIndex: 1000 entries, 0 to 999\n",
      "Data columns (total 15 columns):\n",
      " #   Column                   Non-Null Count  Dtype         \n",
      "---  ------                   --------------  -----         \n",
      " 0   animal_id                1000 non-null   object        \n",
      " 1   datetime                 1000 non-null   datetime64[ns]\n",
      " 2   monthyear                1000 non-null   object        \n",
      " 3   date_of_birth            1000 non-null   object        \n",
      " 4   outcome_type             1000 non-null   object        \n",
      " 5   outcome_subtype          1000 non-null   object        \n",
      " 6   animal_type              1000 non-null   object        \n",
      " 7   sex_upon_outcome         1000 non-null   object        \n",
      " 8   age_upon_outcome         1000 non-null   object        \n",
      " 9   breed                    1000 non-null   object        \n",
      " 10  color                    1000 non-null   object        \n",
      " 11  name                     1000 non-null   object        \n",
      " 12  new_age1                 1000 non-null   object        \n",
      " 13  new_sex1                 1000 non-null   object        \n",
      " 14  outcome_subtype_missing  1000 non-null   bool          \n",
      "dtypes: bool(1), datetime64[ns](1), object(13)\n",
      "memory usage: 110.5+ KB\n"
     ]
    }
   ],
   "source": [
    "# Missing data cleaned\n",
    "animals_clean.info()"
   ]
  },
  {
   "cell_type": "markdown",
   "metadata": {
    "heading_collapsed": true
   },
   "source": [
    "# Level Up: `.applymap()`"
   ]
  },
  {
   "cell_type": "markdown",
   "metadata": {
    "hidden": true
   },
   "source": [
    "`.applymap()` is used to apply a transformation to each element of a DataFrame."
   ]
  },
  {
   "cell_type": "code",
   "execution_count": 35,
   "metadata": {
    "hidden": true,
    "scrolled": true
   },
   "outputs": [
    {
     "data": {
      "text/html": [
       "<div>\n",
       "<style scoped>\n",
       "    .dataframe tbody tr th:only-of-type {\n",
       "        vertical-align: middle;\n",
       "    }\n",
       "\n",
       "    .dataframe tbody tr th {\n",
       "        vertical-align: top;\n",
       "    }\n",
       "\n",
       "    .dataframe thead th {\n",
       "        text-align: right;\n",
       "    }\n",
       "</style>\n",
       "<table border=\"1\" class=\"dataframe\">\n",
       "  <thead>\n",
       "    <tr style=\"text-align: right;\">\n",
       "      <th></th>\n",
       "      <th>animal_id</th>\n",
       "      <th>datetime</th>\n",
       "      <th>monthyear</th>\n",
       "      <th>date_of_birth</th>\n",
       "      <th>outcome_type</th>\n",
       "      <th>outcome_subtype</th>\n",
       "      <th>animal_type</th>\n",
       "      <th>sex_upon_outcome</th>\n",
       "      <th>age_upon_outcome</th>\n",
       "      <th>breed</th>\n",
       "      <th>color</th>\n",
       "      <th>name</th>\n",
       "      <th>new_age1</th>\n",
       "      <th>new_sex1</th>\n",
       "    </tr>\n",
       "  </thead>\n",
       "  <tbody>\n",
       "    <tr>\n",
       "      <th>0</th>\n",
       "      <td>&lt;class 'str'&gt;</td>\n",
       "      <td>&lt;class 'pandas._libs.tslibs.timestamps.Timesta...</td>\n",
       "      <td>&lt;class 'str'&gt;</td>\n",
       "      <td>&lt;class 'str'&gt;</td>\n",
       "      <td>&lt;class 'str'&gt;</td>\n",
       "      <td>&lt;class 'str'&gt;</td>\n",
       "      <td>&lt;class 'str'&gt;</td>\n",
       "      <td>&lt;class 'str'&gt;</td>\n",
       "      <td>&lt;class 'str'&gt;</td>\n",
       "      <td>&lt;class 'str'&gt;</td>\n",
       "      <td>&lt;class 'str'&gt;</td>\n",
       "      <td>&lt;class 'float'&gt;</td>\n",
       "      <td>&lt;class 'str'&gt;</td>\n",
       "      <td>&lt;class 'str'&gt;</td>\n",
       "    </tr>\n",
       "    <tr>\n",
       "      <th>1</th>\n",
       "      <td>&lt;class 'str'&gt;</td>\n",
       "      <td>&lt;class 'pandas._libs.tslibs.timestamps.Timesta...</td>\n",
       "      <td>&lt;class 'str'&gt;</td>\n",
       "      <td>&lt;class 'str'&gt;</td>\n",
       "      <td>&lt;class 'str'&gt;</td>\n",
       "      <td>&lt;class 'str'&gt;</td>\n",
       "      <td>&lt;class 'str'&gt;</td>\n",
       "      <td>&lt;class 'str'&gt;</td>\n",
       "      <td>&lt;class 'str'&gt;</td>\n",
       "      <td>&lt;class 'str'&gt;</td>\n",
       "      <td>&lt;class 'str'&gt;</td>\n",
       "      <td>&lt;class 'str'&gt;</td>\n",
       "      <td>&lt;class 'str'&gt;</td>\n",
       "      <td>&lt;class 'str'&gt;</td>\n",
       "    </tr>\n",
       "    <tr>\n",
       "      <th>2</th>\n",
       "      <td>&lt;class 'str'&gt;</td>\n",
       "      <td>&lt;class 'pandas._libs.tslibs.timestamps.Timesta...</td>\n",
       "      <td>&lt;class 'str'&gt;</td>\n",
       "      <td>&lt;class 'str'&gt;</td>\n",
       "      <td>&lt;class 'str'&gt;</td>\n",
       "      <td>&lt;class 'float'&gt;</td>\n",
       "      <td>&lt;class 'str'&gt;</td>\n",
       "      <td>&lt;class 'str'&gt;</td>\n",
       "      <td>&lt;class 'str'&gt;</td>\n",
       "      <td>&lt;class 'str'&gt;</td>\n",
       "      <td>&lt;class 'str'&gt;</td>\n",
       "      <td>&lt;class 'str'&gt;</td>\n",
       "      <td>&lt;class 'str'&gt;</td>\n",
       "      <td>&lt;class 'str'&gt;</td>\n",
       "    </tr>\n",
       "    <tr>\n",
       "      <th>3</th>\n",
       "      <td>&lt;class 'str'&gt;</td>\n",
       "      <td>&lt;class 'pandas._libs.tslibs.timestamps.Timesta...</td>\n",
       "      <td>&lt;class 'str'&gt;</td>\n",
       "      <td>&lt;class 'str'&gt;</td>\n",
       "      <td>&lt;class 'str'&gt;</td>\n",
       "      <td>&lt;class 'float'&gt;</td>\n",
       "      <td>&lt;class 'str'&gt;</td>\n",
       "      <td>&lt;class 'str'&gt;</td>\n",
       "      <td>&lt;class 'str'&gt;</td>\n",
       "      <td>&lt;class 'str'&gt;</td>\n",
       "      <td>&lt;class 'str'&gt;</td>\n",
       "      <td>&lt;class 'str'&gt;</td>\n",
       "      <td>&lt;class 'str'&gt;</td>\n",
       "      <td>&lt;class 'str'&gt;</td>\n",
       "    </tr>\n",
       "    <tr>\n",
       "      <th>4</th>\n",
       "      <td>&lt;class 'str'&gt;</td>\n",
       "      <td>&lt;class 'pandas._libs.tslibs.timestamps.Timesta...</td>\n",
       "      <td>&lt;class 'str'&gt;</td>\n",
       "      <td>&lt;class 'str'&gt;</td>\n",
       "      <td>&lt;class 'str'&gt;</td>\n",
       "      <td>&lt;class 'float'&gt;</td>\n",
       "      <td>&lt;class 'str'&gt;</td>\n",
       "      <td>&lt;class 'str'&gt;</td>\n",
       "      <td>&lt;class 'str'&gt;</td>\n",
       "      <td>&lt;class 'str'&gt;</td>\n",
       "      <td>&lt;class 'str'&gt;</td>\n",
       "      <td>&lt;class 'str'&gt;</td>\n",
       "      <td>&lt;class 'str'&gt;</td>\n",
       "      <td>&lt;class 'str'&gt;</td>\n",
       "    </tr>\n",
       "    <tr>\n",
       "      <th>...</th>\n",
       "      <td>...</td>\n",
       "      <td>...</td>\n",
       "      <td>...</td>\n",
       "      <td>...</td>\n",
       "      <td>...</td>\n",
       "      <td>...</td>\n",
       "      <td>...</td>\n",
       "      <td>...</td>\n",
       "      <td>...</td>\n",
       "      <td>...</td>\n",
       "      <td>...</td>\n",
       "      <td>...</td>\n",
       "      <td>...</td>\n",
       "      <td>...</td>\n",
       "    </tr>\n",
       "    <tr>\n",
       "      <th>995</th>\n",
       "      <td>&lt;class 'str'&gt;</td>\n",
       "      <td>&lt;class 'pandas._libs.tslibs.timestamps.Timesta...</td>\n",
       "      <td>&lt;class 'str'&gt;</td>\n",
       "      <td>&lt;class 'str'&gt;</td>\n",
       "      <td>&lt;class 'str'&gt;</td>\n",
       "      <td>&lt;class 'str'&gt;</td>\n",
       "      <td>&lt;class 'str'&gt;</td>\n",
       "      <td>&lt;class 'str'&gt;</td>\n",
       "      <td>&lt;class 'str'&gt;</td>\n",
       "      <td>&lt;class 'str'&gt;</td>\n",
       "      <td>&lt;class 'str'&gt;</td>\n",
       "      <td>&lt;class 'str'&gt;</td>\n",
       "      <td>&lt;class 'str'&gt;</td>\n",
       "      <td>&lt;class 'str'&gt;</td>\n",
       "    </tr>\n",
       "    <tr>\n",
       "      <th>996</th>\n",
       "      <td>&lt;class 'str'&gt;</td>\n",
       "      <td>&lt;class 'pandas._libs.tslibs.timestamps.Timesta...</td>\n",
       "      <td>&lt;class 'str'&gt;</td>\n",
       "      <td>&lt;class 'str'&gt;</td>\n",
       "      <td>&lt;class 'str'&gt;</td>\n",
       "      <td>&lt;class 'float'&gt;</td>\n",
       "      <td>&lt;class 'str'&gt;</td>\n",
       "      <td>&lt;class 'str'&gt;</td>\n",
       "      <td>&lt;class 'str'&gt;</td>\n",
       "      <td>&lt;class 'str'&gt;</td>\n",
       "      <td>&lt;class 'str'&gt;</td>\n",
       "      <td>&lt;class 'str'&gt;</td>\n",
       "      <td>&lt;class 'str'&gt;</td>\n",
       "      <td>&lt;class 'str'&gt;</td>\n",
       "    </tr>\n",
       "    <tr>\n",
       "      <th>997</th>\n",
       "      <td>&lt;class 'str'&gt;</td>\n",
       "      <td>&lt;class 'pandas._libs.tslibs.timestamps.Timesta...</td>\n",
       "      <td>&lt;class 'str'&gt;</td>\n",
       "      <td>&lt;class 'str'&gt;</td>\n",
       "      <td>&lt;class 'str'&gt;</td>\n",
       "      <td>&lt;class 'str'&gt;</td>\n",
       "      <td>&lt;class 'str'&gt;</td>\n",
       "      <td>&lt;class 'str'&gt;</td>\n",
       "      <td>&lt;class 'str'&gt;</td>\n",
       "      <td>&lt;class 'str'&gt;</td>\n",
       "      <td>&lt;class 'str'&gt;</td>\n",
       "      <td>&lt;class 'str'&gt;</td>\n",
       "      <td>&lt;class 'str'&gt;</td>\n",
       "      <td>&lt;class 'str'&gt;</td>\n",
       "    </tr>\n",
       "    <tr>\n",
       "      <th>998</th>\n",
       "      <td>&lt;class 'str'&gt;</td>\n",
       "      <td>&lt;class 'pandas._libs.tslibs.timestamps.Timesta...</td>\n",
       "      <td>&lt;class 'str'&gt;</td>\n",
       "      <td>&lt;class 'str'&gt;</td>\n",
       "      <td>&lt;class 'str'&gt;</td>\n",
       "      <td>&lt;class 'str'&gt;</td>\n",
       "      <td>&lt;class 'str'&gt;</td>\n",
       "      <td>&lt;class 'str'&gt;</td>\n",
       "      <td>&lt;class 'str'&gt;</td>\n",
       "      <td>&lt;class 'str'&gt;</td>\n",
       "      <td>&lt;class 'str'&gt;</td>\n",
       "      <td>&lt;class 'float'&gt;</td>\n",
       "      <td>&lt;class 'str'&gt;</td>\n",
       "      <td>&lt;class 'str'&gt;</td>\n",
       "    </tr>\n",
       "    <tr>\n",
       "      <th>999</th>\n",
       "      <td>&lt;class 'str'&gt;</td>\n",
       "      <td>&lt;class 'pandas._libs.tslibs.timestamps.Timesta...</td>\n",
       "      <td>&lt;class 'str'&gt;</td>\n",
       "      <td>&lt;class 'str'&gt;</td>\n",
       "      <td>&lt;class 'str'&gt;</td>\n",
       "      <td>&lt;class 'str'&gt;</td>\n",
       "      <td>&lt;class 'str'&gt;</td>\n",
       "      <td>&lt;class 'str'&gt;</td>\n",
       "      <td>&lt;class 'str'&gt;</td>\n",
       "      <td>&lt;class 'str'&gt;</td>\n",
       "      <td>&lt;class 'str'&gt;</td>\n",
       "      <td>&lt;class 'str'&gt;</td>\n",
       "      <td>&lt;class 'str'&gt;</td>\n",
       "      <td>&lt;class 'str'&gt;</td>\n",
       "    </tr>\n",
       "  </tbody>\n",
       "</table>\n",
       "<p>1000 rows × 14 columns</p>\n",
       "</div>"
      ],
      "text/plain": [
       "         animal_id                                           datetime  \\\n",
       "0    <class 'str'>  <class 'pandas._libs.tslibs.timestamps.Timesta...   \n",
       "1    <class 'str'>  <class 'pandas._libs.tslibs.timestamps.Timesta...   \n",
       "2    <class 'str'>  <class 'pandas._libs.tslibs.timestamps.Timesta...   \n",
       "3    <class 'str'>  <class 'pandas._libs.tslibs.timestamps.Timesta...   \n",
       "4    <class 'str'>  <class 'pandas._libs.tslibs.timestamps.Timesta...   \n",
       "..             ...                                                ...   \n",
       "995  <class 'str'>  <class 'pandas._libs.tslibs.timestamps.Timesta...   \n",
       "996  <class 'str'>  <class 'pandas._libs.tslibs.timestamps.Timesta...   \n",
       "997  <class 'str'>  <class 'pandas._libs.tslibs.timestamps.Timesta...   \n",
       "998  <class 'str'>  <class 'pandas._libs.tslibs.timestamps.Timesta...   \n",
       "999  <class 'str'>  <class 'pandas._libs.tslibs.timestamps.Timesta...   \n",
       "\n",
       "         monthyear  date_of_birth   outcome_type  outcome_subtype  \\\n",
       "0    <class 'str'>  <class 'str'>  <class 'str'>    <class 'str'>   \n",
       "1    <class 'str'>  <class 'str'>  <class 'str'>    <class 'str'>   \n",
       "2    <class 'str'>  <class 'str'>  <class 'str'>  <class 'float'>   \n",
       "3    <class 'str'>  <class 'str'>  <class 'str'>  <class 'float'>   \n",
       "4    <class 'str'>  <class 'str'>  <class 'str'>  <class 'float'>   \n",
       "..             ...            ...            ...              ...   \n",
       "995  <class 'str'>  <class 'str'>  <class 'str'>    <class 'str'>   \n",
       "996  <class 'str'>  <class 'str'>  <class 'str'>  <class 'float'>   \n",
       "997  <class 'str'>  <class 'str'>  <class 'str'>    <class 'str'>   \n",
       "998  <class 'str'>  <class 'str'>  <class 'str'>    <class 'str'>   \n",
       "999  <class 'str'>  <class 'str'>  <class 'str'>    <class 'str'>   \n",
       "\n",
       "       animal_type sex_upon_outcome age_upon_outcome          breed  \\\n",
       "0    <class 'str'>    <class 'str'>    <class 'str'>  <class 'str'>   \n",
       "1    <class 'str'>    <class 'str'>    <class 'str'>  <class 'str'>   \n",
       "2    <class 'str'>    <class 'str'>    <class 'str'>  <class 'str'>   \n",
       "3    <class 'str'>    <class 'str'>    <class 'str'>  <class 'str'>   \n",
       "4    <class 'str'>    <class 'str'>    <class 'str'>  <class 'str'>   \n",
       "..             ...              ...              ...            ...   \n",
       "995  <class 'str'>    <class 'str'>    <class 'str'>  <class 'str'>   \n",
       "996  <class 'str'>    <class 'str'>    <class 'str'>  <class 'str'>   \n",
       "997  <class 'str'>    <class 'str'>    <class 'str'>  <class 'str'>   \n",
       "998  <class 'str'>    <class 'str'>    <class 'str'>  <class 'str'>   \n",
       "999  <class 'str'>    <class 'str'>    <class 'str'>  <class 'str'>   \n",
       "\n",
       "             color             name       new_age1       new_sex1  \n",
       "0    <class 'str'>  <class 'float'>  <class 'str'>  <class 'str'>  \n",
       "1    <class 'str'>    <class 'str'>  <class 'str'>  <class 'str'>  \n",
       "2    <class 'str'>    <class 'str'>  <class 'str'>  <class 'str'>  \n",
       "3    <class 'str'>    <class 'str'>  <class 'str'>  <class 'str'>  \n",
       "4    <class 'str'>    <class 'str'>  <class 'str'>  <class 'str'>  \n",
       "..             ...              ...            ...            ...  \n",
       "995  <class 'str'>    <class 'str'>  <class 'str'>  <class 'str'>  \n",
       "996  <class 'str'>    <class 'str'>  <class 'str'>  <class 'str'>  \n",
       "997  <class 'str'>    <class 'str'>  <class 'str'>  <class 'str'>  \n",
       "998  <class 'str'>  <class 'float'>  <class 'str'>  <class 'str'>  \n",
       "999  <class 'str'>    <class 'str'>  <class 'str'>  <class 'str'>  \n",
       "\n",
       "[1000 rows x 14 columns]"
      ]
     },
     "execution_count": 35,
     "metadata": {},
     "output_type": "execute_result"
    }
   ],
   "source": [
    "# This line will apply the base `type()` function to \n",
    "# all entries of the DataFrame.\n",
    "\n",
    "animals.applymap(type)"
   ]
  },
  {
   "cell_type": "markdown",
   "metadata": {
    "heading_collapsed": true
   },
   "source": [
    "# Level Up: Faster NumPy Methods"
   ]
  },
  {
   "cell_type": "markdown",
   "metadata": {
    "hidden": true
   },
   "source": [
    "In general, `np.where()` and `np.select()` are faster than `map()`. This won't matter too much with reasonably-sized data but can be a consideration for ***big data***."
   ]
  },
  {
   "cell_type": "markdown",
   "metadata": {
    "heading_collapsed": true,
    "hidden": true
   },
   "source": [
    "## NumPy's `where()` Method"
   ]
  },
  {
   "cell_type": "code",
   "execution_count": 42,
   "metadata": {
    "hidden": true,
    "scrolled": false
   },
   "outputs": [
    {
     "data": {
      "text/plain": [
       "2 months     202\n",
       "2 years      162\n",
       "3 months     129\n",
       "1 years       86\n",
       "4 months      47\n",
       "3 years       36\n",
       "1 month       34\n",
       "4 weeks       29\n",
       "5 years       26\n",
       "4 years       21\n",
       "3 weeks       20\n",
       "6 months      18\n",
       "7 months      15\n",
       "10 months     15\n",
       "NULL          14\n",
       "2 weeks       13\n",
       "5 months      13\n",
       "6 years       13\n",
       "7 years       11\n",
       "8 years       10\n",
       "0 years       10\n",
       "8 months       9\n",
       "4 days         8\n",
       "2 days         7\n",
       "10 years       7\n",
       "9 months       7\n",
       "9 years        6\n",
       "15 years       4\n",
       "1 weeks        4\n",
       "1 day          4\n",
       "11 years       4\n",
       "1 week         3\n",
       "3 days         3\n",
       "12 years       3\n",
       "11 months      2\n",
       "16 years       2\n",
       "20 years       1\n",
       "14 years       1\n",
       "13 years       1\n",
       "Name: new_age2, dtype: int64"
      ]
     },
     "execution_count": 42,
     "metadata": {},
     "output_type": "execute_result"
    }
   ],
   "source": [
    "animals['new_age2'] = np.where(animals['age_upon_outcome'] == '1 year',\n",
    "                              '1 years', animals['age_upon_outcome'])\n",
    "animals['new_age2'].value_counts()"
   ]
  },
  {
   "cell_type": "code",
   "execution_count": 43,
   "metadata": {
    "hidden": true
   },
   "outputs": [
    {
     "data": {
      "text/plain": [
       "0"
      ]
     },
     "execution_count": 43,
     "metadata": {},
     "output_type": "execute_result"
    }
   ],
   "source": [
    "# Check we got the same results with np.where()\n",
    "(animals['new_age1'] != animals['new_age2']).sum()"
   ]
  },
  {
   "cell_type": "code",
   "execution_count": 44,
   "metadata": {
    "hidden": true
   },
   "outputs": [
    {
     "name": "stdout",
     "output_type": "stream",
     "text": [
      "247 µs ± 3.25 µs per loop (mean ± std. dev. of 7 runs, 1,000 loops each)\n"
     ]
    }
   ],
   "source": [
    "# Let's time how long it takes .map() to run by running it multiple times\n",
    "%timeit animals['new_age1'] = animals['age_upon_outcome'].map(one_year)"
   ]
  },
  {
   "cell_type": "code",
   "execution_count": 45,
   "metadata": {
    "hidden": true
   },
   "outputs": [
    {
     "name": "stdout",
     "output_type": "stream",
     "text": [
      "223 µs ± 3.62 µs per loop (mean ± std. dev. of 7 runs, 1,000 loops each)\n"
     ]
    }
   ],
   "source": [
    "# Let's time how long it takes np.where() to run by running it multiple times\n",
    "%timeit animals['new_age2'] = np.where(animals['age_upon_outcome'] == '1 year',\\\n",
    "                                       '1 years',animals['age_upon_outcome'])"
   ]
  },
  {
   "cell_type": "markdown",
   "metadata": {
    "heading_collapsed": true,
    "hidden": true
   },
   "source": [
    "## NumPy's `select()` Method"
   ]
  },
  {
   "cell_type": "markdown",
   "metadata": {
    "hidden": true
   },
   "source": [
    "Again, `numpy` will be faster:"
   ]
  },
  {
   "cell_type": "code",
   "execution_count": 48,
   "metadata": {
    "hidden": true
   },
   "outputs": [],
   "source": [
    "conditions = [animals['sex_upon_outcome'] == 'Neutered Male',\n",
    "             animals['sex_upon_outcome'] == 'Intact Male',\n",
    "             animals['sex_upon_outcome'] == 'Spayed Female',\n",
    "             animals['sex_upon_outcome'] == 'Intact Female',\n",
    "             animals['sex_upon_outcome'] == 'Unknown',\n",
    "             animals['sex_upon_outcome'] == 'NULL']\n",
    "\n",
    "choices = ['Male', 'Male', 'Female', 'Female', 'Unknown', 'Unknown']"
   ]
  },
  {
   "cell_type": "code",
   "execution_count": 49,
   "metadata": {
    "hidden": true
   },
   "outputs": [
    {
     "data": {
      "text/plain": [
       "0      Unknown\n",
       "1       Female\n",
       "2         Male\n",
       "3         Male\n",
       "4         Male\n",
       "        ...   \n",
       "995     Female\n",
       "996       Male\n",
       "997       Male\n",
       "998    Unknown\n",
       "999     Female\n",
       "Name: new_sex2, Length: 1000, dtype: object"
      ]
     },
     "execution_count": 49,
     "metadata": {},
     "output_type": "execute_result"
    }
   ],
   "source": [
    "animals['new_sex2'] = np.select(conditions, choices)\n",
    "animals['new_sex2']"
   ]
  },
  {
   "cell_type": "code",
   "execution_count": 50,
   "metadata": {
    "hidden": true
   },
   "outputs": [
    {
     "data": {
      "text/plain": [
       "0"
      ]
     },
     "execution_count": 50,
     "metadata": {},
     "output_type": "execute_result"
    }
   ],
   "source": [
    "# Check we got the same results with np.where()\n",
    "(animals['new_sex1'] != animals['new_sex2']).sum()"
   ]
  },
  {
   "cell_type": "code",
   "execution_count": 51,
   "metadata": {
    "hidden": true
   },
   "outputs": [
    {
     "name": "stdout",
     "output_type": "stream",
     "text": [
      "292 µs ± 1.99 µs per loop (mean ± std. dev. of 7 runs, 1,000 loops each)\n"
     ]
    }
   ],
   "source": [
    "# Let's time how long it takes .map() to run by running it multiple times\n",
    "%timeit animals['new_sex1'] = animals['sex_upon_outcome'].map(sex_mapper)"
   ]
  },
  {
   "cell_type": "code",
   "execution_count": 52,
   "metadata": {
    "hidden": true
   },
   "outputs": [
    {
     "name": "stdout",
     "output_type": "stream",
     "text": [
      "239 µs ± 2.27 µs per loop (mean ± std. dev. of 7 runs, 1,000 loops each)\n"
     ]
    }
   ],
   "source": [
    "# Let's time how long it takes np.select() to run by running it multiple times\n",
    "%timeit animals['new_sex2'] = np.select(conditions, choices)"
   ]
  },
  {
   "cell_type": "code",
   "execution_count": null,
   "metadata": {},
   "outputs": [],
   "source": []
  }
 ],
 "metadata": {
  "kernelspec": {
   "display_name": "Python 3 (ipykernel)",
   "language": "python",
   "name": "python3"
  },
  "language_info": {
   "codemirror_mode": {
    "name": "ipython",
    "version": 3
   },
   "file_extension": ".py",
   "mimetype": "text/x-python",
   "name": "python",
   "nbconvert_exporter": "python",
   "pygments_lexer": "ipython3",
   "version": "3.9.12"
  },
  "toc": {
   "base_numbering": 1,
   "nav_menu": {},
   "number_sections": true,
   "sideBar": true,
   "skip_h1_title": false,
   "title_cell": "Table of Contents",
   "title_sidebar": "TOC",
   "toc_cell": true,
   "toc_position": {
    "height": "calc(100% - 180px)",
    "left": "10px",
    "top": "150px",
    "width": "267px"
   },
   "toc_section_display": true,
   "toc_window_display": true
  }
 },
 "nbformat": 4,
 "nbformat_minor": 4
}
